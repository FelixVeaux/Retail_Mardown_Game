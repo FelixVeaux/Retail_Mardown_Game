{
 "cells": [
  {
   "cell_type": "code",
   "execution_count": null,
   "id": "8699ad0e",
   "metadata": {},
   "outputs": [],
   "source": [
    "import pandas as pd\n",
    "\n",
    "# Load the merged outcome file\n",
    "df = pd.read_csv(\"outcome_merged.csv\")\n",
    "\n",
    "# Create the column name for each run's difference\n",
    "df['dif_label'] = 'dif_' + df['run_id']\n",
    "\n",
    "# Select relevant columns\n",
    "df = df[['comboID', 'dif_label', 'Difference (%)']]\n",
    "\n",
    "# Aggregate duplicates by taking the mean Difference (%) for each comboID and run\n",
    "df_agg = df.groupby(['comboID', 'dif_label'])['Difference (%)'].mean().reset_index()\n",
    "\n",
    "# Pivot the table\n",
    "pivot_df = df_agg.pivot(index='comboID', columns='dif_label', values='Difference (%)')\n",
    "\n"
   ]
  },
  {
   "cell_type": "code",
   "execution_count": 5,
   "id": "93192a05",
   "metadata": {},
   "outputs": [
    {
     "data": {
      "application/vnd.microsoft.datawrangler.viewer.v0+json": {
       "columns": [
        {
         "name": "comboID",
         "rawType": "int64",
         "type": "integer"
        },
        {
         "name": "dif_Felix1",
         "rawType": "float64",
         "type": "float"
        },
        {
         "name": "dif_Felix2",
         "rawType": "float64",
         "type": "float"
        },
        {
         "name": "dif_Felix3",
         "rawType": "float64",
         "type": "float"
        }
       ],
       "conversionMethod": "pd.DataFrame",
       "ref": "6d8a5195-a9ba-4211-b18b-f840acdea723",
       "rows": [
        [
         "0",
         "18.36",
         "25.25",
         "31.7"
        ],
        [
         "1",
         "25.619999999999997",
         "5.45",
         "12.8"
        ],
        [
         "2",
         "4.6",
         "10.7",
         "36.8"
        ],
        [
         "3",
         "15.86",
         "20.35",
         "20.9"
        ],
        [
         "4",
         "16.740000000000002",
         "4.25",
         "1.1"
        ],
        [
         "5",
         "23.6",
         "12.399999999999999",
         "25.7"
        ],
        [
         "6",
         "21.06",
         "18.7",
         "9.8"
        ],
        [
         "7",
         "14.0",
         "1.4500000000000002",
         "6.6"
        ],
        [
         "8",
         "14.780000000000001",
         "15.850000000000001",
         "2.9"
        ],
        [
         "9",
         "15.479999999999999",
         "17.45",
         "4.1"
        ],
        [
         "10",
         "5.6000000000000005",
         "17.1",
         "31.6"
        ],
        [
         "11",
         "15.9",
         "9.85",
         "10.9"
        ],
        [
         "12",
         "2.733333333333333",
         "24.15",
         "3.7"
        ],
        [
         "13",
         "18.599999999999998",
         "9.6",
         "0.7"
        ],
        [
         "14",
         "28.7",
         "3.1500000000000004",
         "19.7"
        ],
        [
         "15",
         "20.866666666666667",
         "28.2",
         "27.6"
        ],
        [
         "16",
         "9.799999999999999",
         "5.3500000000000005",
         "3.2"
        ],
        [
         "17",
         "14.9",
         "18.45",
         "10.6"
        ],
        [
         "18",
         "7.2",
         "16.9",
         "18.2"
        ],
        [
         "19",
         "12.633333333333333",
         "13.1",
         "9.3"
        ],
        [
         "20",
         "18.900000000000002",
         "23.85",
         "8.6"
        ],
        [
         "21",
         "20.133333333333336",
         "1.7999999999999998",
         "35.4"
        ],
        [
         "22",
         "12.0",
         "19.05",
         "12.4"
        ],
        [
         "23",
         "25.55",
         "13.6",
         "26.9"
        ],
        [
         "24",
         "15.25",
         "29.2",
         "1.6"
        ],
        [
         "25",
         "4.6",
         "31.9",
         "11.5"
        ],
        [
         "26",
         "30.1",
         "12.7",
         "2.9"
        ],
        [
         "27",
         "11.0",
         "9.8",
         "17.9"
        ],
        [
         "28",
         "19.4",
         "30.6",
         "13.1"
        ],
        [
         "29",
         "16.8",
         "24.5",
         "5.7"
        ],
        [
         "30",
         "6.8",
         "20.3",
         "3.7"
        ],
        [
         "31",
         "21.9",
         "9.2",
         "3.4"
        ],
        [
         "32",
         "5.3",
         "22.8",
         "9.7"
        ],
        [
         "33",
         "15.9",
         "5.6",
         "6.0"
        ],
        [
         "34",
         "12.0",
         "25.2",
         "15.8"
        ],
        [
         "35",
         "19.3",
         "24.9",
         "2.2"
        ],
        [
         "36",
         "7.6",
         "17.0",
         "19.8"
        ],
        [
         "37",
         "25.9",
         "12.0",
         "16.1"
        ],
        [
         "38",
         "19.0",
         "31.8",
         "8.9"
        ],
        [
         "39",
         "1.1",
         "19.0",
         "22.4"
        ],
        [
         "40",
         "14.1",
         "12.3",
         "2.6"
        ],
        [
         "41",
         "10.8",
         "10.2",
         "31.8"
        ],
        [
         "42",
         "2.4",
         "30.5",
         "24.9"
        ],
        [
         "43",
         "8.8",
         "4.7",
         "9.3"
        ],
        [
         "44",
         "5.2",
         "5.6",
         "4.9"
        ],
        [
         "45",
         "19.6",
         "2.0",
         "2.9"
        ],
        [
         "46",
         "3.4",
         "3.0",
         "2.2"
        ],
        [
         "47",
         "4.4",
         "13.5",
         "5.9"
        ],
        [
         "48",
         "16.2",
         "1.4",
         "7.6"
        ],
        [
         "49",
         "8.4",
         "11.3",
         "23.5"
        ]
       ],
       "shape": {
        "columns": 3,
        "rows": 680
       }
      },
      "text/html": [
       "<div>\n",
       "<style scoped>\n",
       "    .dataframe tbody tr th:only-of-type {\n",
       "        vertical-align: middle;\n",
       "    }\n",
       "\n",
       "    .dataframe tbody tr th {\n",
       "        vertical-align: top;\n",
       "    }\n",
       "\n",
       "    .dataframe thead th {\n",
       "        text-align: right;\n",
       "    }\n",
       "</style>\n",
       "<table border=\"1\" class=\"dataframe\">\n",
       "  <thead>\n",
       "    <tr style=\"text-align: right;\">\n",
       "      <th>dif_label</th>\n",
       "      <th>dif_Felix1</th>\n",
       "      <th>dif_Felix2</th>\n",
       "      <th>dif_Felix3</th>\n",
       "    </tr>\n",
       "    <tr>\n",
       "      <th>comboID</th>\n",
       "      <th></th>\n",
       "      <th></th>\n",
       "      <th></th>\n",
       "    </tr>\n",
       "  </thead>\n",
       "  <tbody>\n",
       "    <tr>\n",
       "      <th>0</th>\n",
       "      <td>18.36</td>\n",
       "      <td>25.25</td>\n",
       "      <td>31.7</td>\n",
       "    </tr>\n",
       "    <tr>\n",
       "      <th>1</th>\n",
       "      <td>25.62</td>\n",
       "      <td>5.45</td>\n",
       "      <td>12.8</td>\n",
       "    </tr>\n",
       "    <tr>\n",
       "      <th>2</th>\n",
       "      <td>4.60</td>\n",
       "      <td>10.70</td>\n",
       "      <td>36.8</td>\n",
       "    </tr>\n",
       "    <tr>\n",
       "      <th>3</th>\n",
       "      <td>15.86</td>\n",
       "      <td>20.35</td>\n",
       "      <td>20.9</td>\n",
       "    </tr>\n",
       "    <tr>\n",
       "      <th>4</th>\n",
       "      <td>16.74</td>\n",
       "      <td>4.25</td>\n",
       "      <td>1.1</td>\n",
       "    </tr>\n",
       "    <tr>\n",
       "      <th>...</th>\n",
       "      <td>...</td>\n",
       "      <td>...</td>\n",
       "      <td>...</td>\n",
       "    </tr>\n",
       "    <tr>\n",
       "      <th>675</th>\n",
       "      <td>23.40</td>\n",
       "      <td>17.80</td>\n",
       "      <td>21.4</td>\n",
       "    </tr>\n",
       "    <tr>\n",
       "      <th>676</th>\n",
       "      <td>2.70</td>\n",
       "      <td>21.80</td>\n",
       "      <td>20.2</td>\n",
       "    </tr>\n",
       "    <tr>\n",
       "      <th>677</th>\n",
       "      <td>19.90</td>\n",
       "      <td>2.30</td>\n",
       "      <td>31.4</td>\n",
       "    </tr>\n",
       "    <tr>\n",
       "      <th>678</th>\n",
       "      <td>30.20</td>\n",
       "      <td>26.10</td>\n",
       "      <td>31.9</td>\n",
       "    </tr>\n",
       "    <tr>\n",
       "      <th>679</th>\n",
       "      <td>24.80</td>\n",
       "      <td>14.20</td>\n",
       "      <td>6.3</td>\n",
       "    </tr>\n",
       "  </tbody>\n",
       "</table>\n",
       "<p>680 rows × 3 columns</p>\n",
       "</div>"
      ],
      "text/plain": [
       "dif_label  dif_Felix1  dif_Felix2  dif_Felix3\n",
       "comboID                                      \n",
       "0               18.36       25.25        31.7\n",
       "1               25.62        5.45        12.8\n",
       "2                4.60       10.70        36.8\n",
       "3               15.86       20.35        20.9\n",
       "4               16.74        4.25         1.1\n",
       "...               ...         ...         ...\n",
       "675             23.40       17.80        21.4\n",
       "676              2.70       21.80        20.2\n",
       "677             19.90        2.30        31.4\n",
       "678             30.20       26.10        31.9\n",
       "679             24.80       14.20         6.3\n",
       "\n",
       "[680 rows x 3 columns]"
      ]
     },
     "execution_count": 5,
     "metadata": {},
     "output_type": "execute_result"
    }
   ],
   "source": [
    "pivot_df"
   ]
  },
  {
   "cell_type": "code",
   "execution_count": 6,
   "id": "b8fa8c0c",
   "metadata": {},
   "outputs": [
    {
     "name": "stdout",
     "output_type": "stream",
     "text": [
      "Summary saved as comboID_summary.csv\n"
     ]
    }
   ],
   "source": [
    "\n",
    "\n",
    "# Calculate statistics across the dif_* columns\n",
    "pivot_df['mean'] = pivot_df.mean(axis=1, skipna=True)\n",
    "pivot_df['median'] = pivot_df.median(axis=1, skipna=True)\n",
    "pivot_df['range'] = pivot_df.max(axis=1, skipna=True) - pivot_df.min(axis=1, skipna=True)\n",
    "\n",
    "# Reset index to make comboID a column again\n",
    "pivot_df = pivot_df.reset_index()\n",
    "\n",
    "# Save to new file\n",
    "pivot_df.to_csv(\"comboID_summary.csv\", index=False)\n",
    "\n",
    "print(\"Summary saved as comboID_summary.csv\")\n"
   ]
  },
  {
   "cell_type": "code",
   "execution_count": 8,
   "id": "893da87b",
   "metadata": {},
   "outputs": [
    {
     "data": {
      "application/vnd.microsoft.datawrangler.viewer.v0+json": {
       "columns": [
        {
         "name": "index",
         "rawType": "int64",
         "type": "integer"
        },
        {
         "name": "comboID",
         "rawType": "int64",
         "type": "integer"
        },
        {
         "name": "dif_Felix1",
         "rawType": "float64",
         "type": "float"
        },
        {
         "name": "dif_Felix2",
         "rawType": "float64",
         "type": "float"
        },
        {
         "name": "dif_Felix3",
         "rawType": "float64",
         "type": "float"
        },
        {
         "name": "mean",
         "rawType": "float64",
         "type": "float"
        },
        {
         "name": "median",
         "rawType": "float64",
         "type": "float"
        },
        {
         "name": "range",
         "rawType": "float64",
         "type": "float"
        }
       ],
       "conversionMethod": "pd.DataFrame",
       "ref": "20e038af-8801-4e6f-a3b1-7ee898caeb5e",
       "rows": [
        [
         "0",
         "0",
         "18.36",
         "25.25",
         "31.7",
         "25.103333333333335",
         "25.17666666666667",
         "13.34"
        ],
        [
         "1",
         "1",
         "25.619999999999997",
         "5.45",
         "12.8",
         "14.623333333333333",
         "13.711666666666666",
         "20.169999999999998"
        ],
        [
         "2",
         "2",
         "4.6",
         "10.7",
         "36.8",
         "17.366666666666664",
         "14.033333333333331",
         "32.199999999999996"
        ],
        [
         "3",
         "3",
         "15.86",
         "20.35",
         "20.9",
         "19.036666666666665",
         "19.693333333333335",
         "5.039999999999999"
        ],
        [
         "4",
         "4",
         "16.740000000000002",
         "4.25",
         "1.1",
         "7.363333333333334",
         "5.806666666666667",
         "15.640000000000002"
        ],
        [
         "5",
         "5",
         "23.6",
         "12.399999999999999",
         "25.7",
         "20.566666666666666",
         "22.083333333333336",
         "13.3"
        ],
        [
         "6",
         "6",
         "21.06",
         "18.7",
         "9.8",
         "16.52",
         "17.61",
         "11.259999999999998"
        ],
        [
         "7",
         "7",
         "14.0",
         "1.4500000000000002",
         "6.6",
         "7.349999999999999",
         "6.975",
         "12.55"
        ],
        [
         "8",
         "8",
         "14.780000000000001",
         "15.850000000000001",
         "2.9",
         "11.176666666666668",
         "12.978333333333335",
         "12.950000000000001"
        ],
        [
         "9",
         "9",
         "15.479999999999999",
         "17.45",
         "4.1",
         "12.343333333333334",
         "13.911666666666665",
         "13.35"
        ],
        [
         "10",
         "10",
         "5.6000000000000005",
         "17.1",
         "31.6",
         "18.1",
         "17.6",
         "26.0"
        ],
        [
         "11",
         "11",
         "15.9",
         "9.85",
         "10.9",
         "12.216666666666667",
         "11.558333333333334",
         "6.050000000000001"
        ],
        [
         "12",
         "12",
         "2.733333333333333",
         "24.15",
         "3.7",
         "10.194444444444445",
         "6.947222222222223",
         "21.416666666666664"
        ],
        [
         "13",
         "13",
         "18.599999999999998",
         "9.6",
         "0.7",
         "9.633333333333331",
         "9.616666666666665",
         "17.9"
        ],
        [
         "14",
         "14",
         "28.7",
         "3.1500000000000004",
         "19.7",
         "17.183333333333334",
         "18.441666666666666",
         "25.549999999999997"
        ],
        [
         "15",
         "15",
         "20.866666666666667",
         "28.2",
         "27.6",
         "25.555555555555554",
         "26.577777777777776",
         "7.333333333333332"
        ],
        [
         "16",
         "16",
         "9.799999999999999",
         "5.3500000000000005",
         "3.2",
         "6.116666666666666",
         "5.733333333333333",
         "6.599999999999999"
        ],
        [
         "17",
         "17",
         "14.9",
         "18.45",
         "10.6",
         "14.65",
         "14.775",
         "7.85"
        ],
        [
         "18",
         "18",
         "7.2",
         "16.9",
         "18.2",
         "14.1",
         "15.5",
         "11.0"
        ],
        [
         "19",
         "19",
         "12.633333333333333",
         "13.1",
         "9.3",
         "11.677777777777777",
         "12.155555555555555",
         "3.799999999999999"
        ],
        [
         "20",
         "20",
         "18.900000000000002",
         "23.85",
         "8.6",
         "17.116666666666667",
         "18.008333333333333",
         "15.250000000000002"
        ],
        [
         "21",
         "21",
         "20.133333333333336",
         "1.7999999999999998",
         "35.4",
         "19.11111111111111",
         "19.622222222222224",
         "33.6"
        ],
        [
         "22",
         "22",
         "12.0",
         "19.05",
         "12.4",
         "14.483333333333334",
         "13.441666666666666",
         "7.050000000000001"
        ],
        [
         "23",
         "23",
         "25.55",
         "13.6",
         "26.9",
         "22.016666666666666",
         "23.78333333333333",
         "13.299999999999999"
        ],
        [
         "24",
         "24",
         "15.25",
         "29.2",
         "1.6",
         "15.350000000000001",
         "15.3",
         "27.599999999999998"
        ],
        [
         "25",
         "25",
         "4.6",
         "31.9",
         "11.5",
         "16.0",
         "13.75",
         "27.299999999999997"
        ],
        [
         "26",
         "26",
         "30.1",
         "12.7",
         "2.9",
         "15.233333333333333",
         "13.966666666666665",
         "27.200000000000003"
        ],
        [
         "27",
         "27",
         "11.0",
         "9.8",
         "17.9",
         "12.9",
         "11.95",
         "8.099999999999998"
        ],
        [
         "28",
         "28",
         "19.4",
         "30.6",
         "13.1",
         "21.033333333333335",
         "20.21666666666667",
         "17.5"
        ],
        [
         "29",
         "29",
         "16.8",
         "24.5",
         "5.7",
         "15.666666666666666",
         "16.233333333333334",
         "18.8"
        ],
        [
         "30",
         "30",
         "6.8",
         "20.3",
         "3.7",
         "10.266666666666667",
         "8.533333333333333",
         "16.6"
        ],
        [
         "31",
         "31",
         "21.9",
         "9.2",
         "3.4",
         "11.5",
         "10.35",
         "18.5"
        ],
        [
         "32",
         "32",
         "5.3",
         "22.8",
         "9.7",
         "12.6",
         "11.149999999999999",
         "17.5"
        ],
        [
         "33",
         "33",
         "15.9",
         "5.6",
         "6.0",
         "9.166666666666666",
         "7.583333333333333",
         "10.3"
        ],
        [
         "34",
         "34",
         "12.0",
         "25.2",
         "15.8",
         "17.666666666666668",
         "16.733333333333334",
         "13.2"
        ],
        [
         "35",
         "35",
         "19.3",
         "24.9",
         "2.2",
         "15.466666666666669",
         "17.383333333333333",
         "22.7"
        ],
        [
         "36",
         "36",
         "7.6",
         "17.0",
         "19.8",
         "14.800000000000002",
         "15.900000000000002",
         "12.200000000000001"
        ],
        [
         "37",
         "37",
         "25.9",
         "12.0",
         "16.1",
         "18.0",
         "17.05",
         "13.899999999999999"
        ],
        [
         "38",
         "38",
         "19.0",
         "31.8",
         "8.9",
         "19.9",
         "19.45",
         "22.9"
        ],
        [
         "39",
         "39",
         "1.1",
         "19.0",
         "22.4",
         "14.166666666666666",
         "16.583333333333332",
         "21.299999999999997"
        ],
        [
         "40",
         "40",
         "14.1",
         "12.3",
         "2.6",
         "9.666666666666666",
         "10.983333333333334",
         "11.5"
        ],
        [
         "41",
         "41",
         "10.8",
         "10.2",
         "31.8",
         "17.599999999999998",
         "14.2",
         "21.6"
        ],
        [
         "42",
         "42",
         "2.4",
         "30.5",
         "24.9",
         "19.266666666666666",
         "22.083333333333332",
         "28.1"
        ],
        [
         "43",
         "43",
         "8.8",
         "4.7",
         "9.3",
         "7.6000000000000005",
         "8.200000000000001",
         "4.6000000000000005"
        ],
        [
         "44",
         "44",
         "5.2",
         "5.6",
         "4.9",
         "5.233333333333333",
         "5.216666666666667",
         "0.6999999999999993"
        ],
        [
         "45",
         "45",
         "19.6",
         "2.0",
         "2.9",
         "8.166666666666666",
         "5.533333333333333",
         "17.6"
        ],
        [
         "46",
         "46",
         "3.4",
         "3.0",
         "2.2",
         "2.866666666666667",
         "2.9333333333333336",
         "1.1999999999999997"
        ],
        [
         "47",
         "47",
         "4.4",
         "13.5",
         "5.9",
         "7.933333333333333",
         "6.916666666666666",
         "9.1"
        ],
        [
         "48",
         "48",
         "16.2",
         "1.4",
         "7.6",
         "8.399999999999999",
         "7.999999999999999",
         "14.799999999999999"
        ],
        [
         "49",
         "49",
         "8.4",
         "11.3",
         "23.5",
         "14.4",
         "12.850000000000001",
         "15.1"
        ]
       ],
       "shape": {
        "columns": 7,
        "rows": 680
       }
      },
      "text/html": [
       "<div>\n",
       "<style scoped>\n",
       "    .dataframe tbody tr th:only-of-type {\n",
       "        vertical-align: middle;\n",
       "    }\n",
       "\n",
       "    .dataframe tbody tr th {\n",
       "        vertical-align: top;\n",
       "    }\n",
       "\n",
       "    .dataframe thead th {\n",
       "        text-align: right;\n",
       "    }\n",
       "</style>\n",
       "<table border=\"1\" class=\"dataframe\">\n",
       "  <thead>\n",
       "    <tr style=\"text-align: right;\">\n",
       "      <th>dif_label</th>\n",
       "      <th>comboID</th>\n",
       "      <th>dif_Felix1</th>\n",
       "      <th>dif_Felix2</th>\n",
       "      <th>dif_Felix3</th>\n",
       "      <th>mean</th>\n",
       "      <th>median</th>\n",
       "      <th>range</th>\n",
       "    </tr>\n",
       "  </thead>\n",
       "  <tbody>\n",
       "    <tr>\n",
       "      <th>0</th>\n",
       "      <td>0</td>\n",
       "      <td>18.36</td>\n",
       "      <td>25.25</td>\n",
       "      <td>31.7</td>\n",
       "      <td>25.103333</td>\n",
       "      <td>25.176667</td>\n",
       "      <td>13.34</td>\n",
       "    </tr>\n",
       "    <tr>\n",
       "      <th>1</th>\n",
       "      <td>1</td>\n",
       "      <td>25.62</td>\n",
       "      <td>5.45</td>\n",
       "      <td>12.8</td>\n",
       "      <td>14.623333</td>\n",
       "      <td>13.711667</td>\n",
       "      <td>20.17</td>\n",
       "    </tr>\n",
       "    <tr>\n",
       "      <th>2</th>\n",
       "      <td>2</td>\n",
       "      <td>4.60</td>\n",
       "      <td>10.70</td>\n",
       "      <td>36.8</td>\n",
       "      <td>17.366667</td>\n",
       "      <td>14.033333</td>\n",
       "      <td>32.20</td>\n",
       "    </tr>\n",
       "    <tr>\n",
       "      <th>3</th>\n",
       "      <td>3</td>\n",
       "      <td>15.86</td>\n",
       "      <td>20.35</td>\n",
       "      <td>20.9</td>\n",
       "      <td>19.036667</td>\n",
       "      <td>19.693333</td>\n",
       "      <td>5.04</td>\n",
       "    </tr>\n",
       "    <tr>\n",
       "      <th>4</th>\n",
       "      <td>4</td>\n",
       "      <td>16.74</td>\n",
       "      <td>4.25</td>\n",
       "      <td>1.1</td>\n",
       "      <td>7.363333</td>\n",
       "      <td>5.806667</td>\n",
       "      <td>15.64</td>\n",
       "    </tr>\n",
       "    <tr>\n",
       "      <th>...</th>\n",
       "      <td>...</td>\n",
       "      <td>...</td>\n",
       "      <td>...</td>\n",
       "      <td>...</td>\n",
       "      <td>...</td>\n",
       "      <td>...</td>\n",
       "      <td>...</td>\n",
       "    </tr>\n",
       "    <tr>\n",
       "      <th>675</th>\n",
       "      <td>675</td>\n",
       "      <td>23.40</td>\n",
       "      <td>17.80</td>\n",
       "      <td>21.4</td>\n",
       "      <td>20.866667</td>\n",
       "      <td>21.133333</td>\n",
       "      <td>5.60</td>\n",
       "    </tr>\n",
       "    <tr>\n",
       "      <th>676</th>\n",
       "      <td>676</td>\n",
       "      <td>2.70</td>\n",
       "      <td>21.80</td>\n",
       "      <td>20.2</td>\n",
       "      <td>14.900000</td>\n",
       "      <td>17.550000</td>\n",
       "      <td>19.10</td>\n",
       "    </tr>\n",
       "    <tr>\n",
       "      <th>677</th>\n",
       "      <td>677</td>\n",
       "      <td>19.90</td>\n",
       "      <td>2.30</td>\n",
       "      <td>31.4</td>\n",
       "      <td>17.866667</td>\n",
       "      <td>18.883333</td>\n",
       "      <td>29.10</td>\n",
       "    </tr>\n",
       "    <tr>\n",
       "      <th>678</th>\n",
       "      <td>678</td>\n",
       "      <td>30.20</td>\n",
       "      <td>26.10</td>\n",
       "      <td>31.9</td>\n",
       "      <td>29.400000</td>\n",
       "      <td>29.800000</td>\n",
       "      <td>5.80</td>\n",
       "    </tr>\n",
       "    <tr>\n",
       "      <th>679</th>\n",
       "      <td>679</td>\n",
       "      <td>24.80</td>\n",
       "      <td>14.20</td>\n",
       "      <td>6.3</td>\n",
       "      <td>15.100000</td>\n",
       "      <td>14.650000</td>\n",
       "      <td>18.50</td>\n",
       "    </tr>\n",
       "  </tbody>\n",
       "</table>\n",
       "<p>680 rows × 7 columns</p>\n",
       "</div>"
      ],
      "text/plain": [
       "dif_label  comboID  dif_Felix1  dif_Felix2  dif_Felix3       mean     median  \\\n",
       "0                0       18.36       25.25        31.7  25.103333  25.176667   \n",
       "1                1       25.62        5.45        12.8  14.623333  13.711667   \n",
       "2                2        4.60       10.70        36.8  17.366667  14.033333   \n",
       "3                3       15.86       20.35        20.9  19.036667  19.693333   \n",
       "4                4       16.74        4.25         1.1   7.363333   5.806667   \n",
       "..             ...         ...         ...         ...        ...        ...   \n",
       "675            675       23.40       17.80        21.4  20.866667  21.133333   \n",
       "676            676        2.70       21.80        20.2  14.900000  17.550000   \n",
       "677            677       19.90        2.30        31.4  17.866667  18.883333   \n",
       "678            678       30.20       26.10        31.9  29.400000  29.800000   \n",
       "679            679       24.80       14.20         6.3  15.100000  14.650000   \n",
       "\n",
       "dif_label  range  \n",
       "0          13.34  \n",
       "1          20.17  \n",
       "2          32.20  \n",
       "3           5.04  \n",
       "4          15.64  \n",
       "..           ...  \n",
       "675         5.60  \n",
       "676        19.10  \n",
       "677        29.10  \n",
       "678         5.80  \n",
       "679        18.50  \n",
       "\n",
       "[680 rows x 7 columns]"
      ]
     },
     "execution_count": 8,
     "metadata": {},
     "output_type": "execute_result"
    }
   ],
   "source": [
    "pivot_df"
   ]
  },
  {
   "cell_type": "code",
   "execution_count": 7,
   "id": "e58db461",
   "metadata": {},
   "outputs": [
    {
     "name": "stdout",
     "output_type": "stream",
     "text": [
      "Range Column Summary Statistics:\n",
      "count    680.000000\n",
      "mean      10.171912\n",
      "std        6.419868\n",
      "min        0.200000\n",
      "25%        5.175000\n",
      "50%        8.750000\n",
      "75%       14.200000\n",
      "max       33.600000\n",
      "Name: range, dtype: float64\n"
     ]
    }
   ],
   "source": [
    "# Load the summary file\n",
    "summary_df = pd.read_csv(\"comboID_summary.csv\")\n",
    "\n",
    "# Describe the 'range' column\n",
    "range_description = summary_df['range'].describe()\n",
    "\n",
    "# Print summary statistics\n",
    "print(\"Range Column Summary Statistics:\")\n",
    "print(range_description)"
   ]
  },
  {
   "cell_type": "code",
   "execution_count": 10,
   "id": "e635e8ad",
   "metadata": {},
   "outputs": [
    {
     "data": {
      "image/png": "[encoded data removed]",
      "text/plain": [
       "<Figure size 1200x600 with 1 Axes>"
      ]
     },
     "metadata": {},
     "output_type": "display_data"
    }
   ],
   "source": [
    "import matplotlib.pyplot as plt\n",
    "\n",
    "\n",
    "plt.figure(figsize=(12, 6))\n",
    "plt.bar(summary_df['comboID'], summary_df['mean'], color='steelblue')\n",
    "plt.xlabel('Combo ID')\n",
    "plt.ylabel('Mean Difference (%)')\n",
    "plt.title('Mean Difference (%) by Combo ID')\n",
    "plt.xticks(rotation=90)\n",
    "plt.tight_layout()\n",
    "plt.show()"
   ]
  }
 ],
 "metadata": {
  "kernelspec": {
   "display_name": "Python 3",
   "language": "python",
   "name": "python3"
  },
  "language_info": {
   "codemirror_mode": {
    "name": "ipython",
    "version": 3
   },
   "file_extension": ".py",
   "mimetype": "text/x-python",
   "name": "python",
   "nbconvert_exporter": "python",
   "pygments_lexer": "ipython3",
   "version": "3.12.5"
  }
 },
 "nbformat": 4,
 "nbformat_minor": 5
}
