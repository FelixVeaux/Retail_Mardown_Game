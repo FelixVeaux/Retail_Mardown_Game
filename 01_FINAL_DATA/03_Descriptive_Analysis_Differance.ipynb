{
 "cells": [
  {
   "cell_type": "code",
   "execution_count": 16,
   "id": "8699ad0e",
   "metadata": {},
   "outputs": [],
   "source": [
    "import pandas as pd\n",
    "\n",
    "# Load the merged outcome file\n",
    "df = pd.read_csv(\"outcome_merged.csv\")\n",
    "\n",
    "# Create the column name for each run's difference\n",
    "df['dif_label'] = 'dif_' + df['run_id']\n",
    "\n",
    "# Select relevant columns\n",
    "df = df[['comboID', 'dif_label', 'Difference (%)']]\n",
    "\n",
    "# Aggregate duplicates by taking the mean Difference (%) for each comboID and run\n",
    "df_agg = df.groupby(['comboID', 'dif_label'])['Difference (%)'].mean().reset_index()\n",
    "\n",
    "# Pivot the table\n",
    "pivot_df = df_agg.pivot(index='comboID', columns='dif_label', values='Difference (%)')\n",
    "\n"
   ]
  },
  {
   "cell_type": "code",
   "execution_count": 17,
   "id": "93192a05",
   "metadata": {},
   "outputs": [
    {
     "data": {
      "application/vnd.microsoft.datawrangler.viewer.v0+json": {
       "columns": [
        {
         "name": "comboID",
         "rawType": "int64",
         "type": "integer"
        },
        {
         "name": "dif_Felix1",
         "rawType": "float64",
         "type": "float"
        },
        {
         "name": "dif_Felix2",
         "rawType": "float64",
         "type": "float"
        },
        {
         "name": "dif_Felix3",
         "rawType": "float64",
         "type": "float"
        },
        {
         "name": "dif_Felix4",
         "rawType": "float64",
         "type": "float"
        }
       ],
       "conversionMethod": "pd.DataFrame",
       "ref": "37c936e5-d537-41d4-a462-c3acbb783e01",
       "rows": [
        [
         "0",
         "18.36",
         "25.25",
         "31.7",
         "1.2"
        ],
        [
         "1",
         "25.619999999999997",
         "5.45",
         "12.8",
         "7.2"
        ],
        [
         "2",
         "4.6",
         "10.7",
         "36.8",
         "26.6"
        ],
        [
         "3",
         "15.86",
         "20.35",
         "20.9",
         "16.3"
        ],
        [
         "4",
         "16.740000000000002",
         "4.25",
         "1.1",
         "17.5"
        ],
        [
         "5",
         "23.6",
         "12.399999999999999",
         "25.7",
         "2.6"
        ],
        [
         "6",
         "21.06",
         "18.7",
         "9.8",
         "23.2"
        ],
        [
         "7",
         "14.0",
         "1.4500000000000002",
         "6.6",
         "17.3"
        ],
        [
         "8",
         "14.780000000000001",
         "15.850000000000001",
         "2.9",
         "2.7"
        ],
        [
         "9",
         "15.479999999999999",
         "17.45",
         "4.1",
         "5.6"
        ],
        [
         "10",
         "5.6000000000000005",
         "17.1",
         "31.6",
         "26.0"
        ],
        [
         "11",
         "15.9",
         "9.85",
         "10.9",
         "28.4"
        ],
        [
         "12",
         "2.733333333333333",
         "24.15",
         "3.7",
         "20.5"
        ],
        [
         "13",
         "18.599999999999998",
         "9.6",
         "0.7",
         "5.8"
        ],
        [
         "14",
         "28.7",
         "3.1500000000000004",
         "19.7",
         "33.6"
        ],
        [
         "15",
         "20.866666666666667",
         "28.2",
         "27.6",
         "12.2"
        ],
        [
         "16",
         "9.799999999999999",
         "5.3500000000000005",
         "3.2",
         "2.6"
        ],
        [
         "17",
         "14.9",
         "18.45",
         "10.6",
         "31.2"
        ],
        [
         "18",
         "7.2",
         "16.9",
         "18.2",
         "21.4"
        ],
        [
         "19",
         "12.633333333333333",
         "13.1",
         "9.3",
         "22.3"
        ],
        [
         "20",
         "18.900000000000002",
         "23.85",
         "8.6",
         "17.1"
        ],
        [
         "21",
         "20.133333333333336",
         "1.7999999999999998",
         "35.4",
         "0.1"
        ],
        [
         "22",
         "12.0",
         "19.05",
         "12.4",
         "34.1"
        ],
        [
         "23",
         "25.55",
         "13.6",
         "26.9",
         "22.8"
        ],
        [
         "24",
         "15.25",
         "29.2",
         "1.6",
         "15.1"
        ],
        [
         "25",
         "4.6",
         "31.9",
         "11.5",
         "16.2"
        ],
        [
         "26",
         "30.1",
         "12.7",
         "2.9",
         "3.5"
        ],
        [
         "27",
         "11.0",
         "9.8",
         "17.9",
         "14.3"
        ],
        [
         "28",
         "19.4",
         "30.6",
         "13.1",
         "14.2"
        ],
        [
         "29",
         "16.8",
         "24.5",
         "5.7",
         "7.2"
        ],
        [
         "30",
         "6.8",
         "20.3",
         "3.7",
         "12.1"
        ],
        [
         "31",
         "21.9",
         "9.2",
         "3.4",
         "3.8"
        ],
        [
         "32",
         "5.3",
         "22.8",
         "9.7",
         "4.5"
        ],
        [
         "33",
         "15.9",
         "5.6",
         "6.0",
         "7.0"
        ],
        [
         "34",
         "12.0",
         "25.2",
         "15.8",
         "13.8"
        ],
        [
         "35",
         "19.3",
         "24.9",
         "2.2",
         "25.6"
        ],
        [
         "36",
         "7.6",
         "17.0",
         "19.8",
         "22.0"
        ],
        [
         "37",
         "25.9",
         "12.0",
         "16.1",
         "2.7"
        ],
        [
         "38",
         "19.0",
         "31.8",
         "8.9",
         "22.2"
        ],
        [
         "39",
         "1.1",
         "19.0",
         "22.4",
         "3.5"
        ],
        [
         "40",
         "14.1",
         "12.3",
         "2.6",
         "13.9"
        ],
        [
         "41",
         "10.8",
         "10.2",
         "31.8",
         "31.7"
        ],
        [
         "42",
         "2.4",
         "30.5",
         "24.9",
         "3.4"
        ],
        [
         "43",
         "8.8",
         "4.7",
         "9.3",
         "4.2"
        ],
        [
         "44",
         "5.2",
         "5.6",
         "4.9",
         "27.6"
        ],
        [
         "45",
         "19.6",
         "2.0",
         "2.9",
         "0.6"
        ],
        [
         "46",
         "3.4",
         "3.0",
         "2.2",
         "5.0"
        ],
        [
         "47",
         "4.4",
         "13.5",
         "5.9",
         "13.0"
        ],
        [
         "48",
         "16.2",
         "1.4",
         "7.6",
         "5.8"
        ],
        [
         "49",
         "8.4",
         "11.3",
         "23.5",
         "7.4"
        ]
       ],
       "shape": {
        "columns": 4,
        "rows": 680
       }
      },
      "text/html": [
       "<div>\n",
       "<style scoped>\n",
       "    .dataframe tbody tr th:only-of-type {\n",
       "        vertical-align: middle;\n",
       "    }\n",
       "\n",
       "    .dataframe tbody tr th {\n",
       "        vertical-align: top;\n",
       "    }\n",
       "\n",
       "    .dataframe thead th {\n",
       "        text-align: right;\n",
       "    }\n",
       "</style>\n",
       "<table border=\"1\" class=\"dataframe\">\n",
       "  <thead>\n",
       "    <tr style=\"text-align: right;\">\n",
       "      <th>dif_label</th>\n",
       "      <th>dif_Felix1</th>\n",
       "      <th>dif_Felix2</th>\n",
       "      <th>dif_Felix3</th>\n",
       "      <th>dif_Felix4</th>\n",
       "    </tr>\n",
       "    <tr>\n",
       "      <th>comboID</th>\n",
       "      <th></th>\n",
       "      <th></th>\n",
       "      <th></th>\n",
       "      <th></th>\n",
       "    </tr>\n",
       "  </thead>\n",
       "  <tbody>\n",
       "    <tr>\n",
       "      <th>0</th>\n",
       "      <td>18.36</td>\n",
       "      <td>25.25</td>\n",
       "      <td>31.7</td>\n",
       "      <td>1.2</td>\n",
       "    </tr>\n",
       "    <tr>\n",
       "      <th>1</th>\n",
       "      <td>25.62</td>\n",
       "      <td>5.45</td>\n",
       "      <td>12.8</td>\n",
       "      <td>7.2</td>\n",
       "    </tr>\n",
       "    <tr>\n",
       "      <th>2</th>\n",
       "      <td>4.60</td>\n",
       "      <td>10.70</td>\n",
       "      <td>36.8</td>\n",
       "      <td>26.6</td>\n",
       "    </tr>\n",
       "    <tr>\n",
       "      <th>3</th>\n",
       "      <td>15.86</td>\n",
       "      <td>20.35</td>\n",
       "      <td>20.9</td>\n",
       "      <td>16.3</td>\n",
       "    </tr>\n",
       "    <tr>\n",
       "      <th>4</th>\n",
       "      <td>16.74</td>\n",
       "      <td>4.25</td>\n",
       "      <td>1.1</td>\n",
       "      <td>17.5</td>\n",
       "    </tr>\n",
       "    <tr>\n",
       "      <th>...</th>\n",
       "      <td>...</td>\n",
       "      <td>...</td>\n",
       "      <td>...</td>\n",
       "      <td>...</td>\n",
       "    </tr>\n",
       "    <tr>\n",
       "      <th>675</th>\n",
       "      <td>23.40</td>\n",
       "      <td>17.80</td>\n",
       "      <td>21.4</td>\n",
       "      <td>20.7</td>\n",
       "    </tr>\n",
       "    <tr>\n",
       "      <th>676</th>\n",
       "      <td>2.70</td>\n",
       "      <td>21.80</td>\n",
       "      <td>20.2</td>\n",
       "      <td>13.0</td>\n",
       "    </tr>\n",
       "    <tr>\n",
       "      <th>677</th>\n",
       "      <td>19.90</td>\n",
       "      <td>2.30</td>\n",
       "      <td>31.4</td>\n",
       "      <td>19.8</td>\n",
       "    </tr>\n",
       "    <tr>\n",
       "      <th>678</th>\n",
       "      <td>30.20</td>\n",
       "      <td>26.10</td>\n",
       "      <td>31.9</td>\n",
       "      <td>25.3</td>\n",
       "    </tr>\n",
       "    <tr>\n",
       "      <th>679</th>\n",
       "      <td>24.80</td>\n",
       "      <td>14.20</td>\n",
       "      <td>6.3</td>\n",
       "      <td>24.3</td>\n",
       "    </tr>\n",
       "  </tbody>\n",
       "</table>\n",
       "<p>680 rows × 4 columns</p>\n",
       "</div>"
      ],
      "text/plain": [
       "dif_label  dif_Felix1  dif_Felix2  dif_Felix3  dif_Felix4\n",
       "comboID                                                  \n",
       "0               18.36       25.25        31.7         1.2\n",
       "1               25.62        5.45        12.8         7.2\n",
       "2                4.60       10.70        36.8        26.6\n",
       "3               15.86       20.35        20.9        16.3\n",
       "4               16.74        4.25         1.1        17.5\n",
       "...               ...         ...         ...         ...\n",
       "675             23.40       17.80        21.4        20.7\n",
       "676              2.70       21.80        20.2        13.0\n",
       "677             19.90        2.30        31.4        19.8\n",
       "678             30.20       26.10        31.9        25.3\n",
       "679             24.80       14.20         6.3        24.3\n",
       "\n",
       "[680 rows x 4 columns]"
      ]
     },
     "execution_count": 17,
     "metadata": {},
     "output_type": "execute_result"
    }
   ],
   "source": [
    "pivot_df"
   ]
  },
  {
   "cell_type": "code",
   "execution_count": 18,
   "id": "b8fa8c0c",
   "metadata": {},
   "outputs": [
    {
     "name": "stdout",
     "output_type": "stream",
     "text": [
      "Summary saved as comboID_summary.csv\n"
     ]
    }
   ],
   "source": [
    "\n",
    "\n",
    "# Calculate statistics across the dif_* columns\n",
    "pivot_df['mean'] = pivot_df.mean(axis=1, skipna=True)\n",
    "pivot_df['median'] = pivot_df.median(axis=1, skipna=True)\n",
    "pivot_df['range'] = pivot_df.max(axis=1, skipna=True) - pivot_df.min(axis=1, skipna=True)\n",
    "pivot_df['std_dev'] = pivot_df.std(axis=1, skipna=True) \n",
    "\n",
    "# Reset index to make comboID a column again\n",
    "pivot_df = pivot_df.reset_index()\n",
    "\n",
    "# Save to new file\n",
    "pivot_df.to_csv(\"comboID_summary.csv\", index=False)\n",
    "\n",
    "print(\"Summary saved as comboID_summary.csv\")\n"
   ]
  },
  {
   "cell_type": "code",
   "execution_count": 19,
   "id": "893da87b",
   "metadata": {},
   "outputs": [
    {
     "data": {
      "application/vnd.microsoft.datawrangler.viewer.v0+json": {
       "columns": [
        {
         "name": "index",
         "rawType": "int64",
         "type": "integer"
        },
        {
         "name": "comboID",
         "rawType": "int64",
         "type": "integer"
        },
        {
         "name": "dif_Felix1",
         "rawType": "float64",
         "type": "float"
        },
        {
         "name": "dif_Felix2",
         "rawType": "float64",
         "type": "float"
        },
        {
         "name": "dif_Felix3",
         "rawType": "float64",
         "type": "float"
        },
        {
         "name": "dif_Felix4",
         "rawType": "float64",
         "type": "float"
        },
        {
         "name": "mean",
         "rawType": "float64",
         "type": "float"
        },
        {
         "name": "median",
         "rawType": "float64",
         "type": "float"
        },
        {
         "name": "range",
         "rawType": "float64",
         "type": "float"
        },
        {
         "name": "std_dev",
         "rawType": "float64",
         "type": "float"
        }
       ],
       "conversionMethod": "pd.DataFrame",
       "ref": "f4de278a-410a-4d87-897f-53240a9b3db6",
       "rows": [
        [
         "0",
         "0",
         "18.36",
         "25.25",
         "31.7",
         "1.2",
         "19.1275",
         "19.1275",
         "30.5",
         "10.233886361472058"
        ],
        [
         "1",
         "1",
         "25.619999999999997",
         "5.45",
         "12.8",
         "7.2",
         "12.7675",
         "12.7675",
         "20.169999999999998",
         "7.032063915854764"
        ],
        [
         "2",
         "2",
         "4.6",
         "10.7",
         "36.8",
         "26.6",
         "19.674999999999997",
         "19.674999999999997",
         "32.199999999999996",
         "11.42725048169631"
        ],
        [
         "3",
         "3",
         "15.86",
         "20.35",
         "20.9",
         "16.3",
         "18.3525",
         "18.3525",
         "5.039999999999999",
         "5.36672167045164"
        ],
        [
         "4",
         "4",
         "16.740000000000002",
         "4.25",
         "1.1",
         "17.5",
         "9.8975",
         "9.8975",
         "16.4",
         "6.45691132578477"
        ],
        [
         "5",
         "5",
         "23.6",
         "12.399999999999999",
         "25.7",
         "2.6",
         "16.075",
         "16.075",
         "23.099999999999998",
         "8.027536314817533"
        ],
        [
         "6",
         "6",
         "21.06",
         "18.7",
         "9.8",
         "23.2",
         "18.19",
         "18.7",
         "13.399999999999999",
         "4.556615807707252"
        ],
        [
         "7",
         "7",
         "14.0",
         "1.4500000000000002",
         "6.6",
         "17.3",
         "9.837499999999999",
         "9.837499999999999",
         "15.850000000000001",
         "5.550266107949025"
        ],
        [
         "8",
         "8",
         "14.780000000000001",
         "15.850000000000001",
         "2.9",
         "2.7",
         "9.057500000000001",
         "9.057500000000001",
         "13.150000000000002",
         "5.347485084241982"
        ],
        [
         "9",
         "9",
         "15.479999999999999",
         "17.45",
         "4.1",
         "5.6",
         "10.6575",
         "10.6575",
         "13.35",
         "4.902169253795419"
        ],
        [
         "10",
         "10",
         "5.6000000000000005",
         "17.1",
         "31.6",
         "26.0",
         "20.075000000000003",
         "20.075000000000003",
         "26.0",
         "8.330646590694364"
        ],
        [
         "11",
         "11",
         "15.9",
         "9.85",
         "10.9",
         "28.4",
         "16.2625",
         "15.9",
         "18.549999999999997",
         "6.084975520356128"
        ],
        [
         "12",
         "12",
         "2.733333333333333",
         "24.15",
         "3.7",
         "20.5",
         "12.770833333333332",
         "12.770833333333332",
         "21.416666666666664",
         "8.527687021258442"
        ],
        [
         "13",
         "13",
         "18.599999999999998",
         "9.6",
         "0.7",
         "5.8",
         "8.674999999999999",
         "8.674999999999999",
         "17.9",
         "6.379274943872838"
        ],
        [
         "14",
         "14",
         "28.7",
         "3.1500000000000004",
         "19.7",
         "33.6",
         "21.2875",
         "21.2875",
         "30.450000000000003",
         "10.0829081718709"
        ],
        [
         "15",
         "15",
         "20.866666666666667",
         "28.2",
         "27.6",
         "12.2",
         "22.216666666666665",
         "22.216666666666665",
         "16.0",
         "5.774406449261244"
        ],
        [
         "16",
         "16",
         "9.799999999999999",
         "5.3500000000000005",
         "3.2",
         "2.6",
         "5.2375",
         "5.2375",
         "7.199999999999999",
         "2.423430088295749"
        ],
        [
         "17",
         "17",
         "14.9",
         "18.45",
         "10.6",
         "31.2",
         "18.7875",
         "18.45",
         "20.6",
         "6.316910293392008"
        ],
        [
         "18",
         "18",
         "7.2",
         "16.9",
         "18.2",
         "21.4",
         "15.924999999999999",
         "16.9",
         "14.2",
         "4.3983594073461605"
        ],
        [
         "19",
         "19",
         "12.633333333333333",
         "13.1",
         "9.3",
         "22.3",
         "14.333333333333332",
         "13.1",
         "13.0",
         "3.991054812767988"
        ],
        [
         "20",
         "20",
         "18.900000000000002",
         "23.85",
         "8.6",
         "17.1",
         "17.1125",
         "17.1125",
         "15.250000000000002",
         "4.546522906102453"
        ],
        [
         "21",
         "21",
         "20.133333333333336",
         "1.7999999999999998",
         "35.4",
         "0.1",
         "14.358333333333334",
         "14.358333333333334",
         "35.3",
         "14.218632630773216"
        ],
        [
         "22",
         "22",
         "12.0",
         "19.05",
         "12.4",
         "34.1",
         "19.387500000000003",
         "19.05",
         "22.1",
         "7.378319975086599"
        ],
        [
         "23",
         "23",
         "25.55",
         "13.6",
         "26.9",
         "22.8",
         "22.2125",
         "22.8",
         "13.299999999999999",
         "5.439192402194947"
        ],
        [
         "24",
         "24",
         "15.25",
         "29.2",
         "1.6",
         "15.1",
         "15.287500000000001",
         "15.25",
         "27.599999999999998",
         "9.228721906944335"
        ],
        [
         "25",
         "25",
         "4.6",
         "31.9",
         "11.5",
         "16.2",
         "16.05",
         "16.05",
         "27.299999999999997",
         "9.233382757302826"
        ],
        [
         "26",
         "26",
         "30.1",
         "12.7",
         "2.9",
         "3.5",
         "12.299999999999999",
         "12.299999999999999",
         "27.200000000000003",
         "10.591618429323299"
        ],
        [
         "27",
         "27",
         "11.0",
         "9.8",
         "17.9",
         "14.3",
         "13.25",
         "13.25",
         "8.099999999999998",
         "3.2255121409519716"
        ],
        [
         "28",
         "28",
         "19.4",
         "30.6",
         "13.1",
         "14.2",
         "19.325",
         "19.325",
         "17.5",
         "5.700911059187112"
        ],
        [
         "29",
         "29",
         "16.8",
         "24.5",
         "5.7",
         "7.2",
         "13.55",
         "13.55",
         "18.8",
         "6.532419153728578"
        ],
        [
         "30",
         "30",
         "6.8",
         "20.3",
         "3.7",
         "12.1",
         "10.725",
         "10.725",
         "16.6",
         "5.596313093286976"
        ],
        [
         "31",
         "31",
         "21.9",
         "9.2",
         "3.4",
         "3.8",
         "9.575",
         "9.2",
         "18.5",
         "6.9866603337394055"
        ],
        [
         "32",
         "32",
         "5.3",
         "22.8",
         "9.7",
         "4.5",
         "10.575",
         "9.7",
         "18.3",
         "6.691854946055512"
        ],
        [
         "33",
         "33",
         "15.9",
         "5.6",
         "6.0",
         "7.0",
         "8.625",
         "7.0",
         "10.3",
         "3.583606025061508"
        ],
        [
         "34",
         "34",
         "12.0",
         "25.2",
         "15.8",
         "13.8",
         "16.7",
         "15.8",
         "13.2",
         "4.356112290301328"
        ],
        [
         "35",
         "35",
         "19.3",
         "24.9",
         "2.2",
         "25.6",
         "18.0",
         "19.3",
         "23.400000000000002",
         "7.970122780914805"
        ],
        [
         "36",
         "36",
         "7.6",
         "17.0",
         "19.8",
         "22.0",
         "16.6",
         "17.0",
         "14.4",
         "4.566127879234638"
        ],
        [
         "37",
         "37",
         "25.9",
         "12.0",
         "16.1",
         "2.7",
         "14.175",
         "14.175",
         "23.2",
         "7.6092303753245565"
        ],
        [
         "38",
         "38",
         "19.0",
         "31.8",
         "8.9",
         "22.2",
         "20.474999999999998",
         "20.474999999999998",
         "22.9",
         "6.738298941056832"
        ],
        [
         "39",
         "39",
         "1.1",
         "19.0",
         "22.4",
         "3.5",
         "11.5",
         "11.5",
         "21.299999999999997",
         "8.461087400565011"
        ],
        [
         "40",
         "40",
         "14.1",
         "12.3",
         "2.6",
         "13.9",
         "10.725",
         "12.3",
         "11.5",
         "3.9213055102557246"
        ],
        [
         "41",
         "41",
         "10.8",
         "10.2",
         "31.8",
         "31.7",
         "21.125",
         "21.125",
         "21.6",
         "8.678910193270646"
        ],
        [
         "42",
         "42",
         "2.4",
         "30.5",
         "24.9",
         "3.4",
         "15.299999999999999",
         "15.299999999999999",
         "28.1",
         "11.340592913029178"
        ],
        [
         "43",
         "43",
         "8.8",
         "4.7",
         "9.3",
         "4.2",
         "6.75",
         "6.75",
         "5.1000000000000005",
         "1.9892867829355088"
        ],
        [
         "44",
         "44",
         "5.2",
         "5.6",
         "4.9",
         "27.6",
         "10.825000000000001",
         "5.6",
         "22.700000000000003",
         "9.464373988806654"
        ],
        [
         "45",
         "45",
         "19.6",
         "2.0",
         "2.9",
         "0.6",
         "6.275",
         "2.9",
         "19.0",
         "8.167566155517928"
        ],
        [
         "46",
         "46",
         "3.4",
         "3.0",
         "2.2",
         "5.0",
         "3.4000000000000004",
         "3.4",
         "2.8",
         "0.8629958891917763"
        ],
        [
         "47",
         "47",
         "4.4",
         "13.5",
         "5.9",
         "13.0",
         "9.2",
         "9.2",
         "9.1",
         "3.3383771363885635"
        ],
        [
         "48",
         "48",
         "16.2",
         "1.4",
         "7.6",
         "5.8",
         "7.749999999999999",
         "7.6",
         "14.799999999999999",
         "5.13928612793274"
        ],
        [
         "49",
         "49",
         "8.4",
         "11.3",
         "23.5",
         "7.4",
         "12.65",
         "11.3",
         "16.1",
         "5.450764472377553"
        ]
       ],
       "shape": {
        "columns": 9,
        "rows": 680
       }
      },
      "text/html": [
       "<div>\n",
       "<style scoped>\n",
       "    .dataframe tbody tr th:only-of-type {\n",
       "        vertical-align: middle;\n",
       "    }\n",
       "\n",
       "    .dataframe tbody tr th {\n",
       "        vertical-align: top;\n",
       "    }\n",
       "\n",
       "    .dataframe thead th {\n",
       "        text-align: right;\n",
       "    }\n",
       "</style>\n",
       "<table border=\"1\" class=\"dataframe\">\n",
       "  <thead>\n",
       "    <tr style=\"text-align: right;\">\n",
       "      <th>dif_label</th>\n",
       "      <th>comboID</th>\n",
       "      <th>dif_Felix1</th>\n",
       "      <th>dif_Felix2</th>\n",
       "      <th>dif_Felix3</th>\n",
       "      <th>dif_Felix4</th>\n",
       "      <th>mean</th>\n",
       "      <th>median</th>\n",
       "      <th>range</th>\n",
       "      <th>std_dev</th>\n",
       "    </tr>\n",
       "  </thead>\n",
       "  <tbody>\n",
       "    <tr>\n",
       "      <th>0</th>\n",
       "      <td>0</td>\n",
       "      <td>18.36</td>\n",
       "      <td>25.25</td>\n",
       "      <td>31.7</td>\n",
       "      <td>1.2</td>\n",
       "      <td>19.1275</td>\n",
       "      <td>19.1275</td>\n",
       "      <td>30.50</td>\n",
       "      <td>10.233886</td>\n",
       "    </tr>\n",
       "    <tr>\n",
       "      <th>1</th>\n",
       "      <td>1</td>\n",
       "      <td>25.62</td>\n",
       "      <td>5.45</td>\n",
       "      <td>12.8</td>\n",
       "      <td>7.2</td>\n",
       "      <td>12.7675</td>\n",
       "      <td>12.7675</td>\n",
       "      <td>20.17</td>\n",
       "      <td>7.032064</td>\n",
       "    </tr>\n",
       "    <tr>\n",
       "      <th>2</th>\n",
       "      <td>2</td>\n",
       "      <td>4.60</td>\n",
       "      <td>10.70</td>\n",
       "      <td>36.8</td>\n",
       "      <td>26.6</td>\n",
       "      <td>19.6750</td>\n",
       "      <td>19.6750</td>\n",
       "      <td>32.20</td>\n",
       "      <td>11.427250</td>\n",
       "    </tr>\n",
       "    <tr>\n",
       "      <th>3</th>\n",
       "      <td>3</td>\n",
       "      <td>15.86</td>\n",
       "      <td>20.35</td>\n",
       "      <td>20.9</td>\n",
       "      <td>16.3</td>\n",
       "      <td>18.3525</td>\n",
       "      <td>18.3525</td>\n",
       "      <td>5.04</td>\n",
       "      <td>5.366722</td>\n",
       "    </tr>\n",
       "    <tr>\n",
       "      <th>4</th>\n",
       "      <td>4</td>\n",
       "      <td>16.74</td>\n",
       "      <td>4.25</td>\n",
       "      <td>1.1</td>\n",
       "      <td>17.5</td>\n",
       "      <td>9.8975</td>\n",
       "      <td>9.8975</td>\n",
       "      <td>16.40</td>\n",
       "      <td>6.456911</td>\n",
       "    </tr>\n",
       "    <tr>\n",
       "      <th>...</th>\n",
       "      <td>...</td>\n",
       "      <td>...</td>\n",
       "      <td>...</td>\n",
       "      <td>...</td>\n",
       "      <td>...</td>\n",
       "      <td>...</td>\n",
       "      <td>...</td>\n",
       "      <td>...</td>\n",
       "      <td>...</td>\n",
       "    </tr>\n",
       "    <tr>\n",
       "      <th>675</th>\n",
       "      <td>675</td>\n",
       "      <td>23.40</td>\n",
       "      <td>17.80</td>\n",
       "      <td>21.4</td>\n",
       "      <td>20.7</td>\n",
       "      <td>20.8250</td>\n",
       "      <td>20.8250</td>\n",
       "      <td>5.60</td>\n",
       "      <td>5.983502</td>\n",
       "    </tr>\n",
       "    <tr>\n",
       "      <th>676</th>\n",
       "      <td>676</td>\n",
       "      <td>2.70</td>\n",
       "      <td>21.80</td>\n",
       "      <td>20.2</td>\n",
       "      <td>13.0</td>\n",
       "      <td>14.4250</td>\n",
       "      <td>14.4250</td>\n",
       "      <td>19.10</td>\n",
       "      <td>6.402876</td>\n",
       "    </tr>\n",
       "    <tr>\n",
       "      <th>677</th>\n",
       "      <td>677</td>\n",
       "      <td>19.90</td>\n",
       "      <td>2.30</td>\n",
       "      <td>31.4</td>\n",
       "      <td>19.8</td>\n",
       "      <td>18.3500</td>\n",
       "      <td>19.8000</td>\n",
       "      <td>29.10</td>\n",
       "      <td>9.388043</td>\n",
       "    </tr>\n",
       "    <tr>\n",
       "      <th>678</th>\n",
       "      <td>678</td>\n",
       "      <td>30.20</td>\n",
       "      <td>26.10</td>\n",
       "      <td>31.9</td>\n",
       "      <td>25.3</td>\n",
       "      <td>28.3750</td>\n",
       "      <td>28.3750</td>\n",
       "      <td>6.60</td>\n",
       "      <td>8.532314</td>\n",
       "    </tr>\n",
       "    <tr>\n",
       "      <th>679</th>\n",
       "      <td>679</td>\n",
       "      <td>24.80</td>\n",
       "      <td>14.20</td>\n",
       "      <td>6.3</td>\n",
       "      <td>24.3</td>\n",
       "      <td>17.4000</td>\n",
       "      <td>17.4000</td>\n",
       "      <td>18.50</td>\n",
       "      <td>6.283008</td>\n",
       "    </tr>\n",
       "  </tbody>\n",
       "</table>\n",
       "<p>680 rows × 9 columns</p>\n",
       "</div>"
      ],
      "text/plain": [
       "dif_label  comboID  dif_Felix1  dif_Felix2  dif_Felix3  dif_Felix4     mean  \\\n",
       "0                0       18.36       25.25        31.7         1.2  19.1275   \n",
       "1                1       25.62        5.45        12.8         7.2  12.7675   \n",
       "2                2        4.60       10.70        36.8        26.6  19.6750   \n",
       "3                3       15.86       20.35        20.9        16.3  18.3525   \n",
       "4                4       16.74        4.25         1.1        17.5   9.8975   \n",
       "..             ...         ...         ...         ...         ...      ...   \n",
       "675            675       23.40       17.80        21.4        20.7  20.8250   \n",
       "676            676        2.70       21.80        20.2        13.0  14.4250   \n",
       "677            677       19.90        2.30        31.4        19.8  18.3500   \n",
       "678            678       30.20       26.10        31.9        25.3  28.3750   \n",
       "679            679       24.80       14.20         6.3        24.3  17.4000   \n",
       "\n",
       "dif_label   median  range    std_dev  \n",
       "0          19.1275  30.50  10.233886  \n",
       "1          12.7675  20.17   7.032064  \n",
       "2          19.6750  32.20  11.427250  \n",
       "3          18.3525   5.04   5.366722  \n",
       "4           9.8975  16.40   6.456911  \n",
       "..             ...    ...        ...  \n",
       "675        20.8250   5.60   5.983502  \n",
       "676        14.4250  19.10   6.402876  \n",
       "677        19.8000  29.10   9.388043  \n",
       "678        28.3750   6.60   8.532314  \n",
       "679        17.4000  18.50   6.283008  \n",
       "\n",
       "[680 rows x 9 columns]"
      ]
     },
     "execution_count": 19,
     "metadata": {},
     "output_type": "execute_result"
    }
   ],
   "source": [
    "pivot_df"
   ]
  },
  {
   "cell_type": "code",
   "execution_count": 20,
   "id": "e58db461",
   "metadata": {},
   "outputs": [
    {
     "name": "stdout",
     "output_type": "stream",
     "text": [
      "Range Column Summary Statistics:\n",
      "count    680.000000\n",
      "mean      12.311216\n",
      "std        6.614773\n",
      "min        0.400000\n",
      "25%        7.100000\n",
      "50%       11.200000\n",
      "75%       16.425000\n",
      "max       35.300000\n",
      "Name: range, dtype: float64\n"
     ]
    }
   ],
   "source": [
    "# Load the summary file\n",
    "summary_df = pd.read_csv(\"comboID_summary.csv\")\n",
    "\n",
    "# Describe the 'range' column\n",
    "range_description = summary_df['range'].describe()\n",
    "\n",
    "# Print summary statistics\n",
    "print(\"Range Column Summary Statistics:\")\n",
    "print(range_description)"
   ]
  },
  {
   "cell_type": "code",
   "execution_count": 21,
   "id": "e635e8ad",
   "metadata": {},
   "outputs": [
    {
     "data": {
      "image/png": "[encoded data removed]",
      "text/plain": [
       "<Figure size 1200x600 with 1 Axes>"
      ]
     },
     "metadata": {},
     "output_type": "display_data"
    }
   ],
   "source": [
    "import matplotlib.pyplot as plt\n",
    "\n",
    "\n",
    "plt.figure(figsize=(12, 6))\n",
    "plt.bar(summary_df['comboID'], summary_df['mean'], color='steelblue')\n",
    "plt.xlabel('Combo ID')\n",
    "plt.ylabel('Mean Difference (%)')\n",
    "plt.title('Mean Difference (%) by Combo ID')\n",
    "plt.xticks(rotation=90)\n",
    "plt.tight_layout()\n",
    "plt.show()"
   ]
  },
  {
   "cell_type": "code",
   "execution_count": 22,
   "id": "7c7c5245",
   "metadata": {},
   "outputs": [
    {
     "data": {
      "text/plain": [
       "Index(['comboID', 'dif_Felix1', 'dif_Felix2', 'dif_Felix3', 'dif_Felix4',\n",
       "       'mean', 'median', 'range', 'std_dev'],\n",
       "      dtype='object')"
      ]
     },
     "execution_count": 22,
     "metadata": {},
     "output_type": "execute_result"
    }
   ],
   "source": [
    "summary_df.columns"
   ]
  },
  {
   "cell_type": "code",
   "execution_count": 25,
   "id": "29b4f772",
   "metadata": {},
   "outputs": [
    {
     "data": {
      "application/vnd.microsoft.datawrangler.viewer.v0+json": {
       "columns": [
        {
         "name": "index",
         "rawType": "int64",
         "type": "integer"
        },
        {
         "name": "comboID",
         "rawType": "int64",
         "type": "integer"
        },
        {
         "name": "mean",
         "rawType": "float64",
         "type": "float"
        },
        {
         "name": "std_dev",
         "rawType": "float64",
         "type": "float"
        },
        {
         "name": "ci_lower",
         "rawType": "float64",
         "type": "float"
        },
        {
         "name": "ci_upper",
         "rawType": "float64",
         "type": "float"
        },
        {
         "name": "tag",
         "rawType": "object",
         "type": "string"
        }
       ],
       "conversionMethod": "pd.DataFrame",
       "ref": "df3f7435-e66c-4000-8295-17f42a535254",
       "rows": [
        [
         "556",
         "556",
         "20.775",
         "4.896904391454628",
         "12.982932356042468",
         "28.56706764395753",
         "Eliminate"
        ],
        [
         "136",
         "136",
         "21.1",
         "5.196931328976287",
         "12.830522546641692",
         "29.36947745335831",
         "Eliminate"
        ],
        [
         "23",
         "23",
         "22.2125",
         "5.439192402194947",
         "13.557531117952227",
         "30.86746888204777",
         "Eliminate"
        ],
        [
         "15",
         "15",
         "22.216666666666665",
         "5.774406449261244",
         "13.028297431836132",
         "31.4050359014972",
         "Eliminate"
        ],
        [
         "532",
         "532",
         "23.3",
         "5.99690396311773",
         "13.757587569715714",
         "32.842412430284284",
         "Eliminate"
        ],
        [
         "558",
         "558",
         "24.15",
         "5.9810116201191255",
         "14.632875833844821",
         "33.667124166155176",
         "Eliminate"
        ],
        [
         "557",
         "557",
         "24.7",
         "6.237482703478261",
         "14.774773108020556",
         "34.625226891979445",
         "Eliminate"
        ],
        [
         "664",
         "664",
         "25.15",
         "6.417804475497387",
         "14.937840929458266",
         "35.36215907054173",
         "Eliminate"
        ],
        [
         "678",
         "678",
         "28.375",
         "8.532314276019251",
         "14.798183978379182",
         "41.951816021620814",
         "Eliminate"
        ],
        [
         "663",
         "663",
         "31.225",
         "10.94683988973204",
         "13.806134919191944",
         "48.643865080808055",
         "Eliminate"
        ],
        [
         "597",
         "597",
         "3.65",
         "4.3829621425306815",
         "-3.3242708383487822",
         "10.624270838348782",
         "Explore"
        ],
        [
         "511",
         "511",
         "3.925",
         "2.8183338965390443",
         "-0.5595981480490408",
         "8.40959814804904",
         "Explore"
        ],
        [
         "248",
         "248",
         "4.75",
         "2.4109126902482387",
         "0.9136999082782751",
         "8.586300091721725",
         "Explore"
        ],
        [
         "194",
         "194",
         "4.975",
         "4.210499206914611",
         "-1.7248438222238622",
         "11.674843822223862",
         "Explore"
        ],
        [
         "343",
         "343",
         "4.9750000000000005",
         "2.004496433616421",
         "1.7853988654409703",
         "8.164601134559032",
         "Explore"
        ],
        [
         "315",
         "315",
         "5.15",
         "2.725562414656923",
         "0.8130219818267106",
         "9.48697801817329",
         "Explore"
        ],
        [
         "577",
         "577",
         "5.15",
         "1.740313327016281",
         "2.380773141200037",
         "7.919226858799964",
         "Explore"
        ],
        [
         "568",
         "568",
         "5.175",
         "1.7121154417019566",
         "2.450642269167737",
         "7.8993577308322624",
         "Explore"
        ],
        [
         "16",
         "16",
         "5.2375",
         "2.423430088295749",
         "1.3812819346942389",
         "9.093718065305762",
         "Explore"
        ],
        [
         "523",
         "523",
         "5.3",
         "2.165640782770771",
         "1.85398224614912",
         "8.746017753850879",
         "Explore"
        ],
        [
         "548",
         "548",
         "5.3",
         "1.9082527535493223",
         "2.263544037459219",
         "8.33645596254078",
         "Explore"
        ],
        [
         "51",
         "51",
         "5.425000000000001",
         "1.4663588692176732",
         "3.091695817218704",
         "7.7583041827812975",
         "Explore"
        ],
        [
         "369",
         "369",
         "5.449999999999999",
         "1.4055586925117136",
         "3.213442466077958",
         "7.68655753392204",
         "Explore"
        ],
        [
         "605",
         "605",
         "5.550000000000001",
         "1.574914963690784",
         "3.0439588463326834",
         "8.056041153667318",
         "Explore"
        ],
        [
         "561",
         "561",
         "5.6",
         "5.106485139133421",
         "-2.5255573820120762",
         "13.725557382012076",
         "Explore"
        ],
        [
         "419",
         "419",
         "5.6000000000000005",
         "4.611476367250979",
         "-1.7378879634317856",
         "12.937887963431788",
         "Explore"
        ],
        [
         "443",
         "443",
         "5.65",
         "5.083341139728589",
         "-2.438730114314369",
         "13.73873011431437",
         "Explore"
        ],
        [
         "492",
         "492",
         "5.65",
         "1.3374193344611391",
         "3.5218673902142053",
         "7.7781326097857955",
         "Explore"
        ],
        [
         "77",
         "77",
         "5.674999999999999",
         "4.759748767879806",
         "-1.898822440210207",
         "13.248822440210205",
         "Explore"
        ],
        [
         "386",
         "386",
         "5.75",
         "3.897847391280768",
         "-0.45234501447169073",
         "11.95234501447169",
         "Explore"
        ],
        [
         "151",
         "151",
         "5.775",
         "1.4301702362872415",
         "3.499280007800074",
         "8.050719992199927",
         "Explore"
        ],
        [
         "277",
         "277",
         "5.85",
         "1.6952665192908671",
         "3.1524526646053332",
         "8.547547335394666",
         "Explore"
        ],
        [
         "182",
         "182",
         "5.975",
         "1.4951210334825422",
         "3.595928795520347",
         "8.354071204479652",
         "Explore"
        ],
        [
         "638",
         "638",
         "5.999999999999999",
         "3.492577162797586",
         "0.44253035616731395",
         "11.557469643832684",
         "Explore"
        ],
        [
         "567",
         "567",
         "6.05",
         "2.069305151379035",
         "2.7572737332440487",
         "9.342726266755951",
         "Explore"
        ],
        [
         "107",
         "107",
         "6.075",
         "1.43534258396152",
         "3.791049648427247",
         "8.358950351572753",
         "Explore"
        ],
        [
         "461",
         "461",
         "6.075",
         "4.689524166134759",
         "-1.3870794280284136",
         "13.537079428028413",
         "Explore"
        ],
        [
         "501",
         "501",
         "6.075",
         "3.282624712025424",
         "0.851611556789936",
         "11.298388443210065",
         "Explore"
        ],
        [
         "460",
         "460",
         "6.1",
         "1.5431877952564852",
         "3.6444438513131154",
         "8.555556148686884",
         "Explore"
        ],
        [
         "99",
         "99",
         "6.174999999999999",
         "4.937366634726884",
         "-1.6814521022601845",
         "14.031452102260182",
         "Explore"
        ],
        [
         "432",
         "432",
         "6.225",
         "2.332820947142873",
         "2.5129612979377143",
         "9.937038702062285",
         "Explore"
        ],
        [
         "45",
         "45",
         "6.275",
         "8.167566155517928",
         "-6.72142036739641",
         "19.27142036739641",
         "Explore"
        ],
        [
         "589",
         "589",
         "6.275",
         "5.93848174840931",
         "-3.174449649611619",
         "15.72444964961162",
         "Explore"
        ],
        [
         "252",
         "252",
         "6.3",
         "1.6717541400462883",
         "3.6398661068330096",
         "8.96013389316699",
         "Explore"
        ],
        [
         "102",
         "102",
         "6.300000000000001",
         "1.6753109164172086",
         "3.6342064819228317",
         "8.96579351807717",
         "Explore"
        ],
        [
         "402",
         "402",
         "6.324999999999999",
         "3.165236205734927",
         "1.2884028658534508",
         "11.361597134146548",
         "Explore"
        ],
        [
         "231",
         "231",
         "6.35",
         "4.020764556529966",
         "-0.047933653673354115",
         "12.747933653673353",
         "Explore"
        ],
        [
         "352",
         "352",
         "6.35",
         "3.763720929890424",
         "0.3610801162745849",
         "12.338919883725413",
         "Explore"
        ],
        [
         "372",
         "372",
         "6.375",
         "2.565794919986508",
         "2.2922477183859034",
         "10.457752281614097",
         "Explore"
        ],
        [
         "422",
         "422",
         "6.375",
         "2.3538026477939704",
         "2.6295747300798817",
         "10.12042526992012",
         "Explore"
        ]
       ],
       "shape": {
        "columns": 6,
        "rows": 680
       }
      },
      "text/html": [
       "<div>\n",
       "<style scoped>\n",
       "    .dataframe tbody tr th:only-of-type {\n",
       "        vertical-align: middle;\n",
       "    }\n",
       "\n",
       "    .dataframe tbody tr th {\n",
       "        vertical-align: top;\n",
       "    }\n",
       "\n",
       "    .dataframe thead th {\n",
       "        text-align: right;\n",
       "    }\n",
       "</style>\n",
       "<table border=\"1\" class=\"dataframe\">\n",
       "  <thead>\n",
       "    <tr style=\"text-align: right;\">\n",
       "      <th></th>\n",
       "      <th>comboID</th>\n",
       "      <th>mean</th>\n",
       "      <th>std_dev</th>\n",
       "      <th>ci_lower</th>\n",
       "      <th>ci_upper</th>\n",
       "      <th>tag</th>\n",
       "    </tr>\n",
       "  </thead>\n",
       "  <tbody>\n",
       "    <tr>\n",
       "      <th>556</th>\n",
       "      <td>556</td>\n",
       "      <td>20.775000</td>\n",
       "      <td>4.896904</td>\n",
       "      <td>12.982932</td>\n",
       "      <td>28.567068</td>\n",
       "      <td>Eliminate</td>\n",
       "    </tr>\n",
       "    <tr>\n",
       "      <th>136</th>\n",
       "      <td>136</td>\n",
       "      <td>21.100000</td>\n",
       "      <td>5.196931</td>\n",
       "      <td>12.830523</td>\n",
       "      <td>29.369477</td>\n",
       "      <td>Eliminate</td>\n",
       "    </tr>\n",
       "    <tr>\n",
       "      <th>23</th>\n",
       "      <td>23</td>\n",
       "      <td>22.212500</td>\n",
       "      <td>5.439192</td>\n",
       "      <td>13.557531</td>\n",
       "      <td>30.867469</td>\n",
       "      <td>Eliminate</td>\n",
       "    </tr>\n",
       "    <tr>\n",
       "      <th>15</th>\n",
       "      <td>15</td>\n",
       "      <td>22.216667</td>\n",
       "      <td>5.774406</td>\n",
       "      <td>13.028297</td>\n",
       "      <td>31.405036</td>\n",
       "      <td>Eliminate</td>\n",
       "    </tr>\n",
       "    <tr>\n",
       "      <th>532</th>\n",
       "      <td>532</td>\n",
       "      <td>23.300000</td>\n",
       "      <td>5.996904</td>\n",
       "      <td>13.757588</td>\n",
       "      <td>32.842412</td>\n",
       "      <td>Eliminate</td>\n",
       "    </tr>\n",
       "    <tr>\n",
       "      <th>...</th>\n",
       "      <td>...</td>\n",
       "      <td>...</td>\n",
       "      <td>...</td>\n",
       "      <td>...</td>\n",
       "      <td>...</td>\n",
       "      <td>...</td>\n",
       "    </tr>\n",
       "    <tr>\n",
       "      <th>105</th>\n",
       "      <td>105</td>\n",
       "      <td>3.800000</td>\n",
       "      <td>0.989949</td>\n",
       "      <td>2.224769</td>\n",
       "      <td>5.375231</td>\n",
       "      <td>Prioritize</td>\n",
       "    </tr>\n",
       "    <tr>\n",
       "      <th>287</th>\n",
       "      <td>287</td>\n",
       "      <td>4.300000</td>\n",
       "      <td>1.516418</td>\n",
       "      <td>1.887040</td>\n",
       "      <td>6.712960</td>\n",
       "      <td>Prioritize</td>\n",
       "    </tr>\n",
       "    <tr>\n",
       "      <th>177</th>\n",
       "      <td>177</td>\n",
       "      <td>4.375000</td>\n",
       "      <td>1.056203</td>\n",
       "      <td>2.694345</td>\n",
       "      <td>6.055655</td>\n",
       "      <td>Prioritize</td>\n",
       "    </tr>\n",
       "    <tr>\n",
       "      <th>266</th>\n",
       "      <td>266</td>\n",
       "      <td>5.300000</td>\n",
       "      <td>1.309853</td>\n",
       "      <td>3.215732</td>\n",
       "      <td>7.384268</td>\n",
       "      <td>Prioritize</td>\n",
       "    </tr>\n",
       "    <tr>\n",
       "      <th>167</th>\n",
       "      <td>167</td>\n",
       "      <td>5.350000</td>\n",
       "      <td>1.405474</td>\n",
       "      <td>3.113577</td>\n",
       "      <td>7.586423</td>\n",
       "      <td>Prioritize</td>\n",
       "    </tr>\n",
       "  </tbody>\n",
       "</table>\n",
       "<p>680 rows × 6 columns</p>\n",
       "</div>"
      ],
      "text/plain": [
       "     comboID       mean   std_dev   ci_lower   ci_upper         tag\n",
       "556      556  20.775000  4.896904  12.982932  28.567068   Eliminate\n",
       "136      136  21.100000  5.196931  12.830523  29.369477   Eliminate\n",
       "23        23  22.212500  5.439192  13.557531  30.867469   Eliminate\n",
       "15        15  22.216667  5.774406  13.028297  31.405036   Eliminate\n",
       "532      532  23.300000  5.996904  13.757588  32.842412   Eliminate\n",
       "..       ...        ...       ...        ...        ...         ...\n",
       "105      105   3.800000  0.989949   2.224769   5.375231  Prioritize\n",
       "287      287   4.300000  1.516418   1.887040   6.712960  Prioritize\n",
       "177      177   4.375000  1.056203   2.694345   6.055655  Prioritize\n",
       "266      266   5.300000  1.309853   3.215732   7.384268  Prioritize\n",
       "167      167   5.350000  1.405474   3.113577   7.586423  Prioritize\n",
       "\n",
       "[680 rows x 6 columns]"
      ]
     },
     "execution_count": 25,
     "metadata": {},
     "output_type": "execute_result"
    }
   ],
   "source": [
    "import pandas as pd\n",
    "import numpy as np\n",
    "from scipy.stats import t\n",
    "\n",
    "# Step 2: Calculate 95% confidence intervals for the mean\n",
    "n = 4\n",
    "df = n - 1\n",
    "t_score = t.ppf(0.975, df)  # 95% CI two-tailed for df=3 ≈ 3.182\n",
    "summary_df['ci_lower'] = summary_df['mean'] - t_score * (summary_df['std_dev'] / np.sqrt(n))\n",
    "summary_df['ci_upper'] = summary_df['mean'] + t_score * (summary_df['std_dev'] / np.sqrt(n))\n",
    "\n",
    "# Step 3: Determine the best observed mean performance (lowest % difference)\n",
    "best_mean = summary_df['mean'].min()\n",
    "\n",
    "# Step 4: Tagging combos based on confidence interval comparison\n",
    "def tag_combo(row, best_mean):\n",
    "    if row['ci_lower'] > best_mean + 10:\n",
    "        return 'Eliminate'\n",
    "    elif row['ci_upper'] < best_mean + 5:\n",
    "        return 'Prioritize'\n",
    "    else:\n",
    "        return 'Explore'\n",
    "\n",
    "summary_df['tag'] = summary_df.apply(lambda row: tag_combo(row, best_mean), axis=1)\n",
    "\n",
    "# Step 5: Optional - sort for review\n",
    "summary_df = summary_df.sort_values(by=['tag', 'mean'])\n",
    "\n",
    "# Output result\n",
    "summary_df[['comboID', 'mean', 'std_dev', 'ci_lower', 'ci_upper', 'tag']]\n"
   ]
  },
  {
   "cell_type": "code",
   "execution_count": 26,
   "id": "69f15b0a",
   "metadata": {},
   "outputs": [
    {
     "name": "stdout",
     "output_type": "stream",
     "text": [
      "Tag distribution:\n",
      "tag\n",
      "Explore       657\n",
      "Prioritize     13\n",
      "Eliminate      10\n",
      "Name: count, dtype: int64\n"
     ]
    }
   ],
   "source": [
    "# Count how many of each tag\n",
    "tag_counts = summary_df['tag'].value_counts()\n",
    "\n",
    "# Display the result\n",
    "print(\"Tag distribution:\")\n",
    "print(tag_counts)\n"
   ]
  },
  {
   "cell_type": "code",
   "execution_count": 27,
   "id": "e9407451",
   "metadata": {},
   "outputs": [
    {
     "name": "stdout",
     "output_type": "stream",
     "text": [
      "Combos to eliminate:\n",
      "[556, 136, 23, 15, 532, 558, 557, 664, 678, 663]\n"
     ]
    }
   ],
   "source": [
    "# Get list of comboIDs tagged as 'Eliminate'\n",
    "eliminate_combos = summary_df[summary_df['tag'] == 'Eliminate']['comboID'].tolist()\n",
    "\n",
    "# Output the list\n",
    "print(\"Combos to eliminate:\")\n",
    "print(eliminate_combos)\n"
   ]
  },
  {
   "cell_type": "code",
   "execution_count": null,
   "id": "3ccbc55c",
   "metadata": {},
   "outputs": [
    {
     "data": {
      "text/plain": [
       "Index(['combo_number', '1', '2', '3', '4', '5', '6', '7', '8', '9', '10', '11',\n",
       "       '12', '13', '14', '15'],\n",
       "      dtype='object')"
      ]
     },
     "execution_count": 28,
     "metadata": {},
     "output_type": "execute_result"
    }
   ],
   "source": [
    "action_df = pd.read_csv(\"C:/Users/felix/OneDrive/McGill Master Work/0.5 - Summer 25/MGSC 670 - Revenue Management/Assignement/Retail_Mardown_Game/Retail_Mardown_Game/action_df.csv\")\n",
    "\n"
   ]
  },
  {
   "cell_type": "code",
   "execution_count": 30,
   "id": "579664d6",
   "metadata": {},
   "outputs": [
    {
     "name": "stdout",
     "output_type": "stream",
     "text": [
      "Removed 10 rows.\n",
      "Remaining rows: 670\n"
     ]
    },
    {
     "data": {
      "application/vnd.microsoft.datawrangler.viewer.v0+json": {
       "columns": [
        {
         "name": "index",
         "rawType": "int64",
         "type": "integer"
        },
        {
         "name": "combo_number",
         "rawType": "int64",
         "type": "integer"
        },
        {
         "name": "1",
         "rawType": "object",
         "type": "string"
        },
        {
         "name": "2",
         "rawType": "object",
         "type": "string"
        },
        {
         "name": "3",
         "rawType": "object",
         "type": "string"
        },
        {
         "name": "4",
         "rawType": "object",
         "type": "string"
        },
        {
         "name": "5",
         "rawType": "object",
         "type": "string"
        },
        {
         "name": "6",
         "rawType": "object",
         "type": "string"
        },
        {
         "name": "7",
         "rawType": "object",
         "type": "string"
        },
        {
         "name": "8",
         "rawType": "object",
         "type": "string"
        },
        {
         "name": "9",
         "rawType": "object",
         "type": "string"
        },
        {
         "name": "10",
         "rawType": "object",
         "type": "string"
        },
        {
         "name": "11",
         "rawType": "object",
         "type": "string"
        },
        {
         "name": "12",
         "rawType": "object",
         "type": "string"
        },
        {
         "name": "13",
         "rawType": "object",
         "type": "string"
        },
        {
         "name": "14",
         "rawType": "object",
         "type": "string"
        },
        {
         "name": "15",
         "rawType": "object",
         "type": "string"
        }
       ],
       "conversionMethod": "pd.DataFrame",
       "ref": "0afaa843-4c2f-4d84-9300-460272fad65e",
       "rows": [
        [
         "0",
         "0",
         "A",
         "A",
         "A",
         "A",
         "A",
         "A",
         "A",
         "A",
         "A",
         "A",
         "A",
         "A",
         "A",
         "A",
         "A"
        ],
        [
         "1",
         "1",
         "A",
         "A",
         "A",
         "A",
         "A",
         "A",
         "A",
         "A",
         "A",
         "A",
         "A",
         "A",
         "A",
         "A",
         "B"
        ],
        [
         "2",
         "2",
         "A",
         "A",
         "A",
         "A",
         "A",
         "A",
         "A",
         "A",
         "A",
         "A",
         "A",
         "A",
         "A",
         "A",
         "C"
        ],
        [
         "3",
         "3",
         "A",
         "A",
         "A",
         "A",
         "A",
         "A",
         "A",
         "A",
         "A",
         "A",
         "A",
         "A",
         "A",
         "A",
         "D"
        ],
        [
         "4",
         "4",
         "A",
         "A",
         "A",
         "A",
         "A",
         "A",
         "A",
         "A",
         "A",
         "A",
         "A",
         "A",
         "A",
         "B",
         "A"
        ]
       ],
       "shape": {
        "columns": 16,
        "rows": 5
       }
      },
      "text/html": [
       "<div>\n",
       "<style scoped>\n",
       "    .dataframe tbody tr th:only-of-type {\n",
       "        vertical-align: middle;\n",
       "    }\n",
       "\n",
       "    .dataframe tbody tr th {\n",
       "        vertical-align: top;\n",
       "    }\n",
       "\n",
       "    .dataframe thead th {\n",
       "        text-align: right;\n",
       "    }\n",
       "</style>\n",
       "<table border=\"1\" class=\"dataframe\">\n",
       "  <thead>\n",
       "    <tr style=\"text-align: right;\">\n",
       "      <th></th>\n",
       "      <th>combo_number</th>\n",
       "      <th>1</th>\n",
       "      <th>2</th>\n",
       "      <th>3</th>\n",
       "      <th>4</th>\n",
       "      <th>5</th>\n",
       "      <th>6</th>\n",
       "      <th>7</th>\n",
       "      <th>8</th>\n",
       "      <th>9</th>\n",
       "      <th>10</th>\n",
       "      <th>11</th>\n",
       "      <th>12</th>\n",
       "      <th>13</th>\n",
       "      <th>14</th>\n",
       "      <th>15</th>\n",
       "    </tr>\n",
       "  </thead>\n",
       "  <tbody>\n",
       "    <tr>\n",
       "      <th>0</th>\n",
       "      <td>0</td>\n",
       "      <td>A</td>\n",
       "      <td>A</td>\n",
       "      <td>A</td>\n",
       "      <td>A</td>\n",
       "      <td>A</td>\n",
       "      <td>A</td>\n",
       "      <td>A</td>\n",
       "      <td>A</td>\n",
       "      <td>A</td>\n",
       "      <td>A</td>\n",
       "      <td>A</td>\n",
       "      <td>A</td>\n",
       "      <td>A</td>\n",
       "      <td>A</td>\n",
       "      <td>A</td>\n",
       "    </tr>\n",
       "    <tr>\n",
       "      <th>1</th>\n",
       "      <td>1</td>\n",
       "      <td>A</td>\n",
       "      <td>A</td>\n",
       "      <td>A</td>\n",
       "      <td>A</td>\n",
       "      <td>A</td>\n",
       "      <td>A</td>\n",
       "      <td>A</td>\n",
       "      <td>A</td>\n",
       "      <td>A</td>\n",
       "      <td>A</td>\n",
       "      <td>A</td>\n",
       "      <td>A</td>\n",
       "      <td>A</td>\n",
       "      <td>A</td>\n",
       "      <td>B</td>\n",
       "    </tr>\n",
       "    <tr>\n",
       "      <th>2</th>\n",
       "      <td>2</td>\n",
       "      <td>A</td>\n",
       "      <td>A</td>\n",
       "      <td>A</td>\n",
       "      <td>A</td>\n",
       "      <td>A</td>\n",
       "      <td>A</td>\n",
       "      <td>A</td>\n",
       "      <td>A</td>\n",
       "      <td>A</td>\n",
       "      <td>A</td>\n",
       "      <td>A</td>\n",
       "      <td>A</td>\n",
       "      <td>A</td>\n",
       "      <td>A</td>\n",
       "      <td>C</td>\n",
       "    </tr>\n",
       "    <tr>\n",
       "      <th>3</th>\n",
       "      <td>3</td>\n",
       "      <td>A</td>\n",
       "      <td>A</td>\n",
       "      <td>A</td>\n",
       "      <td>A</td>\n",
       "      <td>A</td>\n",
       "      <td>A</td>\n",
       "      <td>A</td>\n",
       "      <td>A</td>\n",
       "      <td>A</td>\n",
       "      <td>A</td>\n",
       "      <td>A</td>\n",
       "      <td>A</td>\n",
       "      <td>A</td>\n",
       "      <td>A</td>\n",
       "      <td>D</td>\n",
       "    </tr>\n",
       "    <tr>\n",
       "      <th>4</th>\n",
       "      <td>4</td>\n",
       "      <td>A</td>\n",
       "      <td>A</td>\n",
       "      <td>A</td>\n",
       "      <td>A</td>\n",
       "      <td>A</td>\n",
       "      <td>A</td>\n",
       "      <td>A</td>\n",
       "      <td>A</td>\n",
       "      <td>A</td>\n",
       "      <td>A</td>\n",
       "      <td>A</td>\n",
       "      <td>A</td>\n",
       "      <td>A</td>\n",
       "      <td>B</td>\n",
       "      <td>A</td>\n",
       "    </tr>\n",
       "  </tbody>\n",
       "</table>\n",
       "</div>"
      ],
      "text/plain": [
       "   combo_number  1  2  3  4  5  6  7  8  9 10 11 12 13 14 15\n",
       "0             0  A  A  A  A  A  A  A  A  A  A  A  A  A  A  A\n",
       "1             1  A  A  A  A  A  A  A  A  A  A  A  A  A  A  B\n",
       "2             2  A  A  A  A  A  A  A  A  A  A  A  A  A  A  C\n",
       "3             3  A  A  A  A  A  A  A  A  A  A  A  A  A  A  D\n",
       "4             4  A  A  A  A  A  A  A  A  A  A  A  A  A  B  A"
      ]
     },
     "execution_count": 30,
     "metadata": {},
     "output_type": "execute_result"
    }
   ],
   "source": [
    "\n",
    "\n",
    "# Create a new DataFrame excluding eliminated combos\n",
    "action_df_eliminated = action_df[~action_df['combo_number'].isin(eliminate_combos)].copy()\n",
    "action_df_eliminated.to_csv(\"C:/Users/felix/OneDrive/McGill Master Work/0.5 - Summer 25/MGSC 670 - Revenue Management/Assignement/Retail_Mardown_Game/Retail_Mardown_Game/action_df_eliminated.csv\", index=False)\n",
    "\n",
    "# Optional: Check how many rows were removed\n",
    "print(f\"Removed {len(action_df) - len(action_df_eliminated)} rows.\")\n",
    "print(f\"Remaining rows: {len(action_df_eliminated)}\")\n",
    "\n",
    "# Preview the result\n",
    "action_df_eliminated.head()\n"
   ]
  }
 ],
 "metadata": {
  "kernelspec": {
   "display_name": "Python 3",
   "language": "python",
   "name": "python3"
  },
  "language_info": {
   "codemirror_mode": {
    "name": "ipython",
    "version": 3
   },
   "file_extension": ".py",
   "mimetype": "text/x-python",
   "name": "python",
   "nbconvert_exporter": "python",
   "pygments_lexer": "ipython3",
   "version": "3.12.5"
  }
 },
 "nbformat": 4,
 "nbformat_minor": 5
}
