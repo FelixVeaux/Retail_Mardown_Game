{
 "cells": [
  {
   "cell_type": "code",
   "execution_count": 1,
   "id": "5a69bb17",
   "metadata": {},
   "outputs": [],
   "source": [
    "import pandas as pd\n",
    "import glob\n",
    "import re\n",
    "import os"
   ]
  },
  {
   "cell_type": "code",
   "execution_count": 2,
   "id": "0e1a3ad8",
   "metadata": {},
   "outputs": [
    {
     "name": "stdout",
     "output_type": "stream",
     "text": [
      "Filename 'outcome_merged.csv' does not match expected pattern. Skipping.\n",
      "Merged file saved as outcome_merged.csv\n",
      "Filename 'week_detail_merged.csv' does not match expected pattern. Skipping.\n",
      "Merged file saved as week_detail_merged.csv\n"
     ]
    }
   ],
   "source": [
    "\n",
    "\n",
    "def merge_files(file_pattern, category_name):\n",
    "    merged_df = pd.DataFrame()\n",
    "    for file_path in glob.glob(file_pattern):\n",
    "        base_name = os.path.basename(file_path)  # e.g., \"outcome_Felix_1.csv\"\n",
    "        \n",
    "        # Extract run_id using regex: finds the name and number, e.g., \"Felix_1\"\n",
    "        match = re.search(r'(?:outcome|week_detail)_([A-Za-z]+)_(\\d+)', base_name)\n",
    "        if match:\n",
    "            run_id = f\"{match.group(1)}{match.group(2)}\"  # e.g., \"Felix1\" or \"Juan2\"\n",
    "        else:\n",
    "            print(f\"Filename '{base_name}' does not match expected pattern. Skipping.\")\n",
    "            continue\n",
    "\n",
    "        df = pd.read_csv(file_path)\n",
    "        df['run_id'] = run_id\n",
    "        merged_df = pd.concat([merged_df, df], ignore_index=True)\n",
    "\n",
    "    merged_df.to_csv(f\"{category_name}_merged.csv\", index=False)\n",
    "    print(f\"Merged file saved as {category_name}_merged.csv\")\n",
    "\n",
    "# Merge any outcome and week detail files from any runner\n",
    "merge_files(\"outcome_*.csv\", \"outcome\")\n",
    "merge_files(\"week_detail_*.csv\", \"week_detail\")\n"
   ]
  },
  {
   "cell_type": "code",
   "execution_count": 3,
   "id": "f561a603",
   "metadata": {},
   "outputs": [
    {
     "data": {
      "application/vnd.microsoft.datawrangler.viewer.v0+json": {
       "columns": [
        {
         "name": "index",
         "rawType": "int64",
         "type": "integer"
        },
        {
         "name": "Simulation Number",
         "rawType": "int64",
         "type": "integer"
        },
        {
         "name": "comboID",
         "rawType": "int64",
         "type": "integer"
        },
        {
         "name": "Your revenue",
         "rawType": "int64",
         "type": "integer"
        },
        {
         "name": "Perfect foresight strategy",
         "rawType": "int64",
         "type": "integer"
        },
        {
         "name": "Difference (%)",
         "rawType": "float64",
         "type": "float"
        },
        {
         "name": "run_id",
         "rawType": "object",
         "type": "string"
        }
       ],
       "conversionMethod": "pd.DataFrame",
       "ref": "5e4ff0c8-0cbe-4fef-9510-15403e0e23a4",
       "rows": [
        [
         "0",
         "1",
         "0",
         "64260",
         "90552",
         "29.0",
         "Felix1"
        ],
        [
         "1",
         "2",
         "1",
         "49872",
         "77148",
         "35.4",
         "Felix1"
        ],
        [
         "2",
         "3",
         "2",
         "101940",
         "110232",
         "7.5",
         "Felix1"
        ],
        [
         "3",
         "4",
         "3",
         "91992",
         "104784",
         "12.2",
         "Felix1"
        ],
        [
         "4",
         "5",
         "4",
         "39624",
         "63408",
         "37.5",
         "Felix1"
        ],
        [
         "5",
         "6",
         "5",
         "40410",
         "62652",
         "35.5",
         "Felix1"
        ],
        [
         "6",
         "7",
         "6",
         "9912",
         "15204",
         "34.8",
         "Felix1"
        ],
        [
         "7",
         "8",
         "7",
         "111840",
         "114552",
         "2.4",
         "Felix1"
        ],
        [
         "8",
         "9",
         "8",
         "58644",
         "82440",
         "28.9",
         "Felix1"
        ],
        [
         "9",
         "10",
         "9",
         "98664",
         "105936",
         "6.9",
         "Felix1"
        ],
        [
         "10",
         "11",
         "10",
         "119934",
         "120000",
         "0.1",
         "Felix1"
        ],
        [
         "11",
         "12",
         "11",
         "110208",
         "113064",
         "2.5",
         "Felix1"
        ],
        [
         "12",
         "13",
         "12",
         "108684",
         "112368",
         "3.3",
         "Felix1"
        ],
        [
         "13",
         "14",
         "13",
         "71964",
         "93744",
         "23.2",
         "Felix1"
        ],
        [
         "14",
         "15",
         "14",
         "44334",
         "67212",
         "34.0",
         "Felix1"
        ],
        [
         "15",
         "16",
         "15",
         "115314",
         "120000",
         "3.9",
         "Felix1"
        ],
        [
         "16",
         "17",
         "16",
         "99864",
         "107262",
         "6.9",
         "Felix1"
        ],
        [
         "17",
         "18",
         "17",
         "120000",
         "120000",
         "0.0",
         "Felix1"
        ],
        [
         "18",
         "19",
         "18",
         "95124",
         "104364",
         "8.9",
         "Felix1"
        ],
        [
         "19",
         "20",
         "19",
         "72336",
         "90348",
         "19.9",
         "Felix1"
        ],
        [
         "20",
         "21",
         "20",
         "88494",
         "104076",
         "15.0",
         "Felix1"
        ],
        [
         "21",
         "22",
         "21",
         "79056",
         "98790",
         "20.0",
         "Felix1"
        ],
        [
         "22",
         "23",
         "22",
         "75564",
         "96096",
         "21.4",
         "Felix1"
        ],
        [
         "23",
         "24",
         "23",
         "16800",
         "25536",
         "34.2",
         "Felix1"
        ],
        [
         "24",
         "25",
         "24",
         "96498",
         "105780",
         "8.8",
         "Felix1"
        ],
        [
         "25",
         "1",
         "0",
         "7080",
         "11640",
         "39.2",
         "Felix1"
        ],
        [
         "26",
         "2",
         "1",
         "86142",
         "103950",
         "17.1",
         "Felix1"
        ],
        [
         "27",
         "3",
         "2",
         "99156",
         "109458",
         "9.4",
         "Felix1"
        ],
        [
         "28",
         "4",
         "3",
         "83556",
         "101658",
         "17.8",
         "Felix1"
        ],
        [
         "29",
         "5",
         "4",
         "39144",
         "62760",
         "37.6",
         "Felix1"
        ],
        [
         "30",
         "6",
         "5",
         "61614",
         "86724",
         "29.0",
         "Felix1"
        ],
        [
         "31",
         "7",
         "6",
         "86976",
         "102480",
         "15.1",
         "Felix1"
        ],
        [
         "32",
         "8",
         "7",
         "95004",
         "106398",
         "10.7",
         "Felix1"
        ],
        [
         "33",
         "9",
         "8",
         "120000",
         "120000",
         "0.0",
         "Felix1"
        ],
        [
         "34",
         "10",
         "9",
         "49536",
         "74484",
         "33.5",
         "Felix1"
        ],
        [
         "35",
         "1",
         "0",
         "108360",
         "114492",
         "5.4",
         "Felix1"
        ],
        [
         "36",
         "2",
         "1",
         "58194",
         "84768",
         "31.3",
         "Felix1"
        ],
        [
         "37",
         "3",
         "2",
         "120000",
         "120000",
         "0.0",
         "Felix1"
        ],
        [
         "38",
         "4",
         "3",
         "108576",
         "112344",
         "3.4",
         "Felix1"
        ],
        [
         "39",
         "5",
         "4",
         "102270",
         "111258",
         "8.1",
         "Felix1"
        ],
        [
         "40",
         "6",
         "5",
         "64338",
         "88152",
         "27.0",
         "Felix1"
        ],
        [
         "41",
         "7",
         "6",
         "97410",
         "107568",
         "9.4",
         "Felix1"
        ],
        [
         "42",
         "8",
         "7",
         "109356",
         "112734",
         "3.0",
         "Felix1"
        ],
        [
         "43",
         "9",
         "8",
         "63360",
         "85428",
         "25.8",
         "Felix1"
        ],
        [
         "44",
         "10",
         "9",
         "21060",
         "30828",
         "31.7",
         "Felix1"
        ],
        [
         "45",
         "11",
         "10",
         "108030",
         "113358",
         "4.7",
         "Felix1"
        ],
        [
         "46",
         "12",
         "11",
         "78246",
         "99450",
         "21.3",
         "Felix1"
        ],
        [
         "47",
         "13",
         "12",
         "109044",
         "112068",
         "2.7",
         "Felix1"
        ],
        [
         "48",
         "14",
         "13",
         "116214",
         "120000",
         "3.2",
         "Felix1"
        ],
        [
         "49",
         "15",
         "14",
         "76650",
         "96060",
         "20.2",
         "Felix1"
        ]
       ],
       "shape": {
        "columns": 6,
        "rows": 2810
       }
      },
      "text/html": [
       "<div>\n",
       "<style scoped>\n",
       "    .dataframe tbody tr th:only-of-type {\n",
       "        vertical-align: middle;\n",
       "    }\n",
       "\n",
       "    .dataframe tbody tr th {\n",
       "        vertical-align: top;\n",
       "    }\n",
       "\n",
       "    .dataframe thead th {\n",
       "        text-align: right;\n",
       "    }\n",
       "</style>\n",
       "<table border=\"1\" class=\"dataframe\">\n",
       "  <thead>\n",
       "    <tr style=\"text-align: right;\">\n",
       "      <th></th>\n",
       "      <th>Simulation Number</th>\n",
       "      <th>comboID</th>\n",
       "      <th>Your revenue</th>\n",
       "      <th>Perfect foresight strategy</th>\n",
       "      <th>Difference (%)</th>\n",
       "      <th>run_id</th>\n",
       "    </tr>\n",
       "  </thead>\n",
       "  <tbody>\n",
       "    <tr>\n",
       "      <th>0</th>\n",
       "      <td>1</td>\n",
       "      <td>0</td>\n",
       "      <td>64260</td>\n",
       "      <td>90552</td>\n",
       "      <td>29.0</td>\n",
       "      <td>Felix1</td>\n",
       "    </tr>\n",
       "    <tr>\n",
       "      <th>1</th>\n",
       "      <td>2</td>\n",
       "      <td>1</td>\n",
       "      <td>49872</td>\n",
       "      <td>77148</td>\n",
       "      <td>35.4</td>\n",
       "      <td>Felix1</td>\n",
       "    </tr>\n",
       "    <tr>\n",
       "      <th>2</th>\n",
       "      <td>3</td>\n",
       "      <td>2</td>\n",
       "      <td>101940</td>\n",
       "      <td>110232</td>\n",
       "      <td>7.5</td>\n",
       "      <td>Felix1</td>\n",
       "    </tr>\n",
       "    <tr>\n",
       "      <th>3</th>\n",
       "      <td>4</td>\n",
       "      <td>3</td>\n",
       "      <td>91992</td>\n",
       "      <td>104784</td>\n",
       "      <td>12.2</td>\n",
       "      <td>Felix1</td>\n",
       "    </tr>\n",
       "    <tr>\n",
       "      <th>4</th>\n",
       "      <td>5</td>\n",
       "      <td>4</td>\n",
       "      <td>39624</td>\n",
       "      <td>63408</td>\n",
       "      <td>37.5</td>\n",
       "      <td>Felix1</td>\n",
       "    </tr>\n",
       "    <tr>\n",
       "      <th>...</th>\n",
       "      <td>...</td>\n",
       "      <td>...</td>\n",
       "      <td>...</td>\n",
       "      <td>...</td>\n",
       "      <td>...</td>\n",
       "      <td>...</td>\n",
       "    </tr>\n",
       "    <tr>\n",
       "      <th>2805</th>\n",
       "      <td>676</td>\n",
       "      <td>675</td>\n",
       "      <td>81720</td>\n",
       "      <td>103020</td>\n",
       "      <td>20.7</td>\n",
       "      <td>Felix4</td>\n",
       "    </tr>\n",
       "    <tr>\n",
       "      <th>2806</th>\n",
       "      <td>677</td>\n",
       "      <td>676</td>\n",
       "      <td>78264</td>\n",
       "      <td>89952</td>\n",
       "      <td>13.0</td>\n",
       "      <td>Felix4</td>\n",
       "    </tr>\n",
       "    <tr>\n",
       "      <th>2807</th>\n",
       "      <td>678</td>\n",
       "      <td>677</td>\n",
       "      <td>79320</td>\n",
       "      <td>98880</td>\n",
       "      <td>19.8</td>\n",
       "      <td>Felix4</td>\n",
       "    </tr>\n",
       "    <tr>\n",
       "      <th>2808</th>\n",
       "      <td>679</td>\n",
       "      <td>678</td>\n",
       "      <td>76068</td>\n",
       "      <td>101820</td>\n",
       "      <td>25.3</td>\n",
       "      <td>Felix4</td>\n",
       "    </tr>\n",
       "    <tr>\n",
       "      <th>2809</th>\n",
       "      <td>680</td>\n",
       "      <td>679</td>\n",
       "      <td>73992</td>\n",
       "      <td>97782</td>\n",
       "      <td>24.3</td>\n",
       "      <td>Felix4</td>\n",
       "    </tr>\n",
       "  </tbody>\n",
       "</table>\n",
       "<p>2810 rows × 6 columns</p>\n",
       "</div>"
      ],
      "text/plain": [
       "      Simulation Number  comboID  Your revenue  Perfect foresight strategy  \\\n",
       "0                     1        0         64260                       90552   \n",
       "1                     2        1         49872                       77148   \n",
       "2                     3        2        101940                      110232   \n",
       "3                     4        3         91992                      104784   \n",
       "4                     5        4         39624                       63408   \n",
       "...                 ...      ...           ...                         ...   \n",
       "2805                676      675         81720                      103020   \n",
       "2806                677      676         78264                       89952   \n",
       "2807                678      677         79320                       98880   \n",
       "2808                679      678         76068                      101820   \n",
       "2809                680      679         73992                       97782   \n",
       "\n",
       "      Difference (%)  run_id  \n",
       "0               29.0  Felix1  \n",
       "1               35.4  Felix1  \n",
       "2                7.5  Felix1  \n",
       "3               12.2  Felix1  \n",
       "4               37.5  Felix1  \n",
       "...              ...     ...  \n",
       "2805            20.7  Felix4  \n",
       "2806            13.0  Felix4  \n",
       "2807            19.8  Felix4  \n",
       "2808            25.3  Felix4  \n",
       "2809            24.3  Felix4  \n",
       "\n",
       "[2810 rows x 6 columns]"
      ]
     },
     "execution_count": 3,
     "metadata": {},
     "output_type": "execute_result"
    }
   ],
   "source": [
    "merged_df = pd.read_csv(\"outcome_merged.csv\")\n",
    "merged_df"
   ]
  }
 ],
 "metadata": {
  "kernelspec": {
   "display_name": "Poetry Env",
   "language": "python",
   "name": "poetry-env"
  },
  "language_info": {
   "codemirror_mode": {
    "name": "ipython",
    "version": 3
   },
   "file_extension": ".py",
   "mimetype": "text/x-python",
   "name": "python",
   "nbconvert_exporter": "python",
   "pygments_lexer": "ipython3",
   "version": "3.12.5"
  }
 },
 "nbformat": 4,
 "nbformat_minor": 5
}
